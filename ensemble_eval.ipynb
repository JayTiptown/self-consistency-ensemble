{
 "cells": [
  {
   "cell_type": "code",
   "execution_count": 1,
   "metadata": {},
   "outputs": [
    {
     "name": "stdout",
     "output_type": "stream",
     "text": [
      "Requirement already satisfied: import-ipynb in /Users/jaytipirneni/.pyenv/versions/3.11.11/lib/python3.11/site-packages (0.2)\n",
      "Requirement already satisfied: IPython in /Users/jaytipirneni/.pyenv/versions/3.11.11/lib/python3.11/site-packages (from import-ipynb) (8.32.0)\n",
      "Requirement already satisfied: nbformat in /Users/jaytipirneni/.pyenv/versions/3.11.11/lib/python3.11/site-packages (from import-ipynb) (5.10.4)\n",
      "Requirement already satisfied: decorator in /Users/jaytipirneni/.pyenv/versions/3.11.11/lib/python3.11/site-packages (from IPython->import-ipynb) (5.2.1)\n",
      "Requirement already satisfied: jedi>=0.16 in /Users/jaytipirneni/.pyenv/versions/3.11.11/lib/python3.11/site-packages (from IPython->import-ipynb) (0.19.2)\n",
      "Requirement already satisfied: matplotlib-inline in /Users/jaytipirneni/.pyenv/versions/3.11.11/lib/python3.11/site-packages (from IPython->import-ipynb) (0.1.7)\n",
      "Requirement already satisfied: pexpect>4.3 in /Users/jaytipirneni/.pyenv/versions/3.11.11/lib/python3.11/site-packages (from IPython->import-ipynb) (4.9.0)\n",
      "Requirement already satisfied: prompt_toolkit<3.1.0,>=3.0.41 in /Users/jaytipirneni/.pyenv/versions/3.11.11/lib/python3.11/site-packages (from IPython->import-ipynb) (3.0.50)\n",
      "Requirement already satisfied: pygments>=2.4.0 in /Users/jaytipirneni/.pyenv/versions/3.11.11/lib/python3.11/site-packages (from IPython->import-ipynb) (2.19.1)\n",
      "Requirement already satisfied: stack_data in /Users/jaytipirneni/.pyenv/versions/3.11.11/lib/python3.11/site-packages (from IPython->import-ipynb) (0.6.3)\n",
      "Requirement already satisfied: traitlets>=5.13.0 in /Users/jaytipirneni/.pyenv/versions/3.11.11/lib/python3.11/site-packages (from IPython->import-ipynb) (5.14.3)\n",
      "Requirement already satisfied: typing_extensions>=4.6 in /Users/jaytipirneni/.pyenv/versions/3.11.11/lib/python3.11/site-packages (from IPython->import-ipynb) (4.12.2)\n",
      "Requirement already satisfied: wcwidth in /Users/jaytipirneni/.pyenv/versions/3.11.11/lib/python3.11/site-packages (from prompt_toolkit<3.1.0,>=3.0.41->IPython->import-ipynb) (0.2.13)\n",
      "Requirement already satisfied: parso<0.9.0,>=0.8.4 in /Users/jaytipirneni/.pyenv/versions/3.11.11/lib/python3.11/site-packages (from jedi>=0.16->IPython->import-ipynb) (0.8.4)\n",
      "Requirement already satisfied: ptyprocess>=0.5 in /Users/jaytipirneni/.pyenv/versions/3.11.11/lib/python3.11/site-packages (from pexpect>4.3->IPython->import-ipynb) (0.7.0)\n",
      "Requirement already satisfied: fastjsonschema>=2.15 in /Users/jaytipirneni/.pyenv/versions/3.11.11/lib/python3.11/site-packages (from nbformat->import-ipynb) (2.21.1)\n",
      "Requirement already satisfied: jsonschema>=2.6 in /Users/jaytipirneni/.pyenv/versions/3.11.11/lib/python3.11/site-packages (from nbformat->import-ipynb) (4.24.0)\n",
      "Requirement already satisfied: jupyter-core!=5.0.*,>=4.12 in /Users/jaytipirneni/.pyenv/versions/3.11.11/lib/python3.11/site-packages (from nbformat->import-ipynb) (5.7.2)\n",
      "Requirement already satisfied: attrs>=22.2.0 in /Users/jaytipirneni/.pyenv/versions/3.11.11/lib/python3.11/site-packages (from jsonschema>=2.6->nbformat->import-ipynb) (25.3.0)\n",
      "Requirement already satisfied: jsonschema-specifications>=2023.03.6 in /Users/jaytipirneni/.pyenv/versions/3.11.11/lib/python3.11/site-packages (from jsonschema>=2.6->nbformat->import-ipynb) (2025.4.1)\n",
      "Requirement already satisfied: referencing>=0.28.4 in /Users/jaytipirneni/.pyenv/versions/3.11.11/lib/python3.11/site-packages (from jsonschema>=2.6->nbformat->import-ipynb) (0.36.2)\n",
      "Requirement already satisfied: rpds-py>=0.7.1 in /Users/jaytipirneni/.pyenv/versions/3.11.11/lib/python3.11/site-packages (from jsonschema>=2.6->nbformat->import-ipynb) (0.25.1)\n",
      "Requirement already satisfied: platformdirs>=2.5 in /Users/jaytipirneni/.pyenv/versions/3.11.11/lib/python3.11/site-packages (from jupyter-core!=5.0.*,>=4.12->nbformat->import-ipynb) (4.3.6)\n",
      "Requirement already satisfied: executing>=1.2.0 in /Users/jaytipirneni/.pyenv/versions/3.11.11/lib/python3.11/site-packages (from stack_data->IPython->import-ipynb) (2.2.0)\n",
      "Requirement already satisfied: asttokens>=2.1.0 in /Users/jaytipirneni/.pyenv/versions/3.11.11/lib/python3.11/site-packages (from stack_data->IPython->import-ipynb) (3.0.0)\n",
      "Requirement already satisfied: pure-eval in /Users/jaytipirneni/.pyenv/versions/3.11.11/lib/python3.11/site-packages (from stack_data->IPython->import-ipynb) (0.2.3)\n",
      "\n",
      "\u001b[1m[\u001b[0m\u001b[34;49mnotice\u001b[0m\u001b[1;39;49m]\u001b[0m\u001b[39;49m A new release of pip is available: \u001b[0m\u001b[31;49m25.1\u001b[0m\u001b[39;49m -> \u001b[0m\u001b[32;49m25.1.1\u001b[0m\n",
      "\u001b[1m[\u001b[0m\u001b[34;49mnotice\u001b[0m\u001b[1;39;49m]\u001b[0m\u001b[39;49m To update, run: \u001b[0m\u001b[32;49mpip install --upgrade pip\u001b[0m\n"
     ]
    }
   ],
   "source": [
    "!pip install import-ipynb"
   ]
  },
  {
   "cell_type": "code",
   "execution_count": 2,
   "metadata": {},
   "outputs": [
    {
     "name": "stdout",
     "output_type": "stream",
     "text": [
      "Requirement already satisfied: seaborn in /Users/jaytipirneni/.pyenv/versions/3.11.11/lib/python3.11/site-packages (0.13.2)\n",
      "Requirement already satisfied: hf_xet in /Users/jaytipirneni/.pyenv/versions/3.11.11/lib/python3.11/site-packages (1.1.3)\n",
      "Requirement already satisfied: torch in /Users/jaytipirneni/.pyenv/versions/3.11.11/lib/python3.11/site-packages (2.7.0)\n",
      "Requirement already satisfied: torchvision in /Users/jaytipirneni/.pyenv/versions/3.11.11/lib/python3.11/site-packages (0.22.0)\n",
      "Requirement already satisfied: transformers in /Users/jaytipirneni/.pyenv/versions/3.11.11/lib/python3.11/site-packages (4.51.3)\n",
      "Requirement already satisfied: tqdm in /Users/jaytipirneni/.pyenv/versions/3.11.11/lib/python3.11/site-packages (4.67.1)\n",
      "Requirement already satisfied: requests in /Users/jaytipirneni/.pyenv/versions/3.11.11/lib/python3.11/site-packages (2.32.3)\n",
      "Requirement already satisfied: datasets in /Users/jaytipirneni/.pyenv/versions/3.11.11/lib/python3.11/site-packages (3.5.1)\n",
      "Requirement already satisfied: accelerate in /Users/jaytipirneni/.pyenv/versions/3.11.11/lib/python3.11/site-packages (1.6.0)\n",
      "Requirement already satisfied: bitsandbytes in /Users/jaytipirneni/.pyenv/versions/3.11.11/lib/python3.11/site-packages (0.42.0)\n",
      "Requirement already satisfied: tensorboard in /Users/jaytipirneni/.pyenv/versions/3.11.11/lib/python3.11/site-packages (2.19.0)\n",
      "Requirement already satisfied: torch-tb-profiler in /Users/jaytipirneni/.pyenv/versions/3.11.11/lib/python3.11/site-packages (0.4.3)\n",
      "Requirement already satisfied: openai in /Users/jaytipirneni/.pyenv/versions/3.11.11/lib/python3.11/site-packages (1.70.0)\n",
      "Requirement already satisfied: anthropic in /Users/jaytipirneni/.pyenv/versions/3.11.11/lib/python3.11/site-packages (0.50.0)\n",
      "Requirement already satisfied: google-generativeai in /Users/jaytipirneni/.pyenv/versions/3.11.11/lib/python3.11/site-packages (0.8.5)\n",
      "Requirement already satisfied: numpy!=1.24.0,>=1.20 in /Users/jaytipirneni/.pyenv/versions/3.11.11/lib/python3.11/site-packages (from seaborn) (2.2.4)\n",
      "Requirement already satisfied: pandas>=1.2 in /Users/jaytipirneni/.pyenv/versions/3.11.11/lib/python3.11/site-packages (from seaborn) (2.2.3)\n",
      "Requirement already satisfied: matplotlib!=3.6.1,>=3.4 in /Users/jaytipirneni/.pyenv/versions/3.11.11/lib/python3.11/site-packages (from seaborn) (3.10.0)\n",
      "Requirement already satisfied: filelock in /Users/jaytipirneni/.pyenv/versions/3.11.11/lib/python3.11/site-packages (from torch) (3.18.0)\n",
      "Requirement already satisfied: typing-extensions>=4.10.0 in /Users/jaytipirneni/.pyenv/versions/3.11.11/lib/python3.11/site-packages (from torch) (4.12.2)\n",
      "Requirement already satisfied: sympy>=1.13.3 in /Users/jaytipirneni/.pyenv/versions/3.11.11/lib/python3.11/site-packages (from torch) (1.14.0)\n",
      "Requirement already satisfied: networkx in /Users/jaytipirneni/.pyenv/versions/3.11.11/lib/python3.11/site-packages (from torch) (3.4.2)\n",
      "Requirement already satisfied: jinja2 in /Users/jaytipirneni/.pyenv/versions/3.11.11/lib/python3.11/site-packages (from torch) (3.1.6)\n",
      "Requirement already satisfied: fsspec in /Users/jaytipirneni/.pyenv/versions/3.11.11/lib/python3.11/site-packages (from torch) (2025.3.0)\n",
      "Requirement already satisfied: pillow!=8.3.*,>=5.3.0 in /Users/jaytipirneni/.pyenv/versions/3.11.11/lib/python3.11/site-packages (from torchvision) (11.1.0)\n",
      "Requirement already satisfied: huggingface-hub<1.0,>=0.30.0 in /Users/jaytipirneni/.pyenv/versions/3.11.11/lib/python3.11/site-packages (from transformers) (0.30.2)\n",
      "Requirement already satisfied: packaging>=20.0 in /Users/jaytipirneni/.pyenv/versions/3.11.11/lib/python3.11/site-packages (from transformers) (24.2)\n",
      "Requirement already satisfied: pyyaml>=5.1 in /Users/jaytipirneni/.pyenv/versions/3.11.11/lib/python3.11/site-packages (from transformers) (6.0.2)\n",
      "Requirement already satisfied: regex!=2019.12.17 in /Users/jaytipirneni/.pyenv/versions/3.11.11/lib/python3.11/site-packages (from transformers) (2024.11.6)\n",
      "Requirement already satisfied: tokenizers<0.22,>=0.21 in /Users/jaytipirneni/.pyenv/versions/3.11.11/lib/python3.11/site-packages (from transformers) (0.21.1)\n",
      "Requirement already satisfied: safetensors>=0.4.3 in /Users/jaytipirneni/.pyenv/versions/3.11.11/lib/python3.11/site-packages (from transformers) (0.5.3)\n",
      "Requirement already satisfied: charset-normalizer<4,>=2 in /Users/jaytipirneni/.pyenv/versions/3.11.11/lib/python3.11/site-packages (from requests) (3.4.1)\n",
      "Requirement already satisfied: idna<4,>=2.5 in /Users/jaytipirneni/.pyenv/versions/3.11.11/lib/python3.11/site-packages (from requests) (3.10)\n",
      "Requirement already satisfied: urllib3<3,>=1.21.1 in /Users/jaytipirneni/.pyenv/versions/3.11.11/lib/python3.11/site-packages (from requests) (2.3.0)\n",
      "Requirement already satisfied: certifi>=2017.4.17 in /Users/jaytipirneni/.pyenv/versions/3.11.11/lib/python3.11/site-packages (from requests) (2025.1.31)\n",
      "Requirement already satisfied: pyarrow>=15.0.0 in /Users/jaytipirneni/.pyenv/versions/3.11.11/lib/python3.11/site-packages (from datasets) (20.0.0)\n",
      "Requirement already satisfied: dill<0.3.9,>=0.3.0 in /Users/jaytipirneni/.pyenv/versions/3.11.11/lib/python3.11/site-packages (from datasets) (0.3.8)\n",
      "Requirement already satisfied: xxhash in /Users/jaytipirneni/.pyenv/versions/3.11.11/lib/python3.11/site-packages (from datasets) (3.5.0)\n",
      "Requirement already satisfied: multiprocess<0.70.17 in /Users/jaytipirneni/.pyenv/versions/3.11.11/lib/python3.11/site-packages (from datasets) (0.70.16)\n",
      "Requirement already satisfied: aiohttp in /Users/jaytipirneni/.pyenv/versions/3.11.11/lib/python3.11/site-packages (from datasets) (3.11.18)\n",
      "Requirement already satisfied: psutil in /Users/jaytipirneni/.pyenv/versions/3.11.11/lib/python3.11/site-packages (from accelerate) (7.0.0)\n",
      "Requirement already satisfied: scipy in /Users/jaytipirneni/.pyenv/versions/3.11.11/lib/python3.11/site-packages (from bitsandbytes) (1.15.2)\n",
      "Requirement already satisfied: absl-py>=0.4 in /Users/jaytipirneni/.pyenv/versions/3.11.11/lib/python3.11/site-packages (from tensorboard) (2.2.2)\n",
      "Requirement already satisfied: grpcio>=1.48.2 in /Users/jaytipirneni/.pyenv/versions/3.11.11/lib/python3.11/site-packages (from tensorboard) (1.71.0)\n",
      "Requirement already satisfied: markdown>=2.6.8 in /Users/jaytipirneni/.pyenv/versions/3.11.11/lib/python3.11/site-packages (from tensorboard) (3.8)\n",
      "Requirement already satisfied: protobuf!=4.24.0,>=3.19.6 in /Users/jaytipirneni/.pyenv/versions/3.11.11/lib/python3.11/site-packages (from tensorboard) (5.29.4)\n",
      "Requirement already satisfied: setuptools>=41.0.0 in /Users/jaytipirneni/.pyenv/versions/3.11.11/lib/python3.11/site-packages (from tensorboard) (65.5.0)\n",
      "Requirement already satisfied: six>1.9 in /Users/jaytipirneni/.pyenv/versions/3.11.11/lib/python3.11/site-packages (from tensorboard) (1.17.0)\n",
      "Requirement already satisfied: tensorboard-data-server<0.8.0,>=0.7.0 in /Users/jaytipirneni/.pyenv/versions/3.11.11/lib/python3.11/site-packages (from tensorboard) (0.7.2)\n",
      "Requirement already satisfied: werkzeug>=1.0.1 in /Users/jaytipirneni/.pyenv/versions/3.11.11/lib/python3.11/site-packages (from tensorboard) (3.1.3)\n",
      "Requirement already satisfied: anyio<5,>=3.5.0 in /Users/jaytipirneni/.pyenv/versions/3.11.11/lib/python3.11/site-packages (from openai) (4.9.0)\n",
      "Requirement already satisfied: distro<2,>=1.7.0 in /Users/jaytipirneni/.pyenv/versions/3.11.11/lib/python3.11/site-packages (from openai) (1.9.0)\n",
      "Requirement already satisfied: httpx<1,>=0.23.0 in /Users/jaytipirneni/.pyenv/versions/3.11.11/lib/python3.11/site-packages (from openai) (0.28.1)\n",
      "Requirement already satisfied: jiter<1,>=0.4.0 in /Users/jaytipirneni/.pyenv/versions/3.11.11/lib/python3.11/site-packages (from openai) (0.9.0)\n",
      "Requirement already satisfied: pydantic<3,>=1.9.0 in /Users/jaytipirneni/.pyenv/versions/3.11.11/lib/python3.11/site-packages (from openai) (2.11.1)\n",
      "Requirement already satisfied: sniffio in /Users/jaytipirneni/.pyenv/versions/3.11.11/lib/python3.11/site-packages (from openai) (1.3.1)\n",
      "Requirement already satisfied: httpcore==1.* in /Users/jaytipirneni/.pyenv/versions/3.11.11/lib/python3.11/site-packages (from httpx<1,>=0.23.0->openai) (1.0.7)\n",
      "Requirement already satisfied: h11<0.15,>=0.13 in /Users/jaytipirneni/.pyenv/versions/3.11.11/lib/python3.11/site-packages (from httpcore==1.*->httpx<1,>=0.23.0->openai) (0.14.0)\n",
      "Requirement already satisfied: annotated-types>=0.6.0 in /Users/jaytipirneni/.pyenv/versions/3.11.11/lib/python3.11/site-packages (from pydantic<3,>=1.9.0->openai) (0.7.0)\n",
      "Requirement already satisfied: pydantic-core==2.33.0 in /Users/jaytipirneni/.pyenv/versions/3.11.11/lib/python3.11/site-packages (from pydantic<3,>=1.9.0->openai) (2.33.0)\n",
      "Requirement already satisfied: typing-inspection>=0.4.0 in /Users/jaytipirneni/.pyenv/versions/3.11.11/lib/python3.11/site-packages (from pydantic<3,>=1.9.0->openai) (0.4.0)\n",
      "Requirement already satisfied: google-ai-generativelanguage==0.6.15 in /Users/jaytipirneni/.pyenv/versions/3.11.11/lib/python3.11/site-packages (from google-generativeai) (0.6.15)\n",
      "Requirement already satisfied: google-api-core in /Users/jaytipirneni/.pyenv/versions/3.11.11/lib/python3.11/site-packages (from google-generativeai) (2.25.0rc1)\n",
      "Requirement already satisfied: google-api-python-client in /Users/jaytipirneni/.pyenv/versions/3.11.11/lib/python3.11/site-packages (from google-generativeai) (2.169.0)\n",
      "Requirement already satisfied: google-auth>=2.15.0 in /Users/jaytipirneni/.pyenv/versions/3.11.11/lib/python3.11/site-packages (from google-generativeai) (2.40.0)\n",
      "Requirement already satisfied: proto-plus<2.0.0dev,>=1.22.3 in /Users/jaytipirneni/.pyenv/versions/3.11.11/lib/python3.11/site-packages (from google-ai-generativelanguage==0.6.15->google-generativeai) (1.26.1)\n",
      "Requirement already satisfied: googleapis-common-protos<2.0.0,>=1.56.2 in /Users/jaytipirneni/.pyenv/versions/3.11.11/lib/python3.11/site-packages (from google-api-core->google-generativeai) (1.70.0)\n",
      "Requirement already satisfied: grpcio-status<2.0.0,>=1.33.2 in /Users/jaytipirneni/.pyenv/versions/3.11.11/lib/python3.11/site-packages (from google-api-core[grpc]!=2.0.*,!=2.1.*,!=2.10.*,!=2.2.*,!=2.3.*,!=2.4.*,!=2.5.*,!=2.6.*,!=2.7.*,!=2.8.*,!=2.9.*,<3.0.0dev,>=1.34.1->google-ai-generativelanguage==0.6.15->google-generativeai) (1.71.0)\n",
      "Requirement already satisfied: cachetools<6.0,>=2.0.0 in /Users/jaytipirneni/.pyenv/versions/3.11.11/lib/python3.11/site-packages (from google-auth>=2.15.0->google-generativeai) (5.5.2)\n",
      "Requirement already satisfied: pyasn1-modules>=0.2.1 in /Users/jaytipirneni/.pyenv/versions/3.11.11/lib/python3.11/site-packages (from google-auth>=2.15.0->google-generativeai) (0.4.2)\n",
      "Requirement already satisfied: rsa<5,>=3.1.4 in /Users/jaytipirneni/.pyenv/versions/3.11.11/lib/python3.11/site-packages (from google-auth>=2.15.0->google-generativeai) (4.9.1)\n",
      "Requirement already satisfied: pyasn1>=0.1.3 in /Users/jaytipirneni/.pyenv/versions/3.11.11/lib/python3.11/site-packages (from rsa<5,>=3.1.4->google-auth>=2.15.0->google-generativeai) (0.6.1)\n",
      "Requirement already satisfied: aiohappyeyeballs>=2.3.0 in /Users/jaytipirneni/.pyenv/versions/3.11.11/lib/python3.11/site-packages (from aiohttp->datasets) (2.6.1)\n",
      "Requirement already satisfied: aiosignal>=1.1.2 in /Users/jaytipirneni/.pyenv/versions/3.11.11/lib/python3.11/site-packages (from aiohttp->datasets) (1.3.2)\n",
      "Requirement already satisfied: attrs>=17.3.0 in /Users/jaytipirneni/.pyenv/versions/3.11.11/lib/python3.11/site-packages (from aiohttp->datasets) (25.3.0)\n",
      "Requirement already satisfied: frozenlist>=1.1.1 in /Users/jaytipirneni/.pyenv/versions/3.11.11/lib/python3.11/site-packages (from aiohttp->datasets) (1.6.0)\n",
      "Requirement already satisfied: multidict<7.0,>=4.5 in /Users/jaytipirneni/.pyenv/versions/3.11.11/lib/python3.11/site-packages (from aiohttp->datasets) (6.4.3)\n",
      "Requirement already satisfied: propcache>=0.2.0 in /Users/jaytipirneni/.pyenv/versions/3.11.11/lib/python3.11/site-packages (from aiohttp->datasets) (0.3.1)\n",
      "Requirement already satisfied: yarl<2.0,>=1.17.0 in /Users/jaytipirneni/.pyenv/versions/3.11.11/lib/python3.11/site-packages (from aiohttp->datasets) (1.20.0)\n",
      "Requirement already satisfied: contourpy>=1.0.1 in /Users/jaytipirneni/.pyenv/versions/3.11.11/lib/python3.11/site-packages (from matplotlib!=3.6.1,>=3.4->seaborn) (1.3.1)\n",
      "Requirement already satisfied: cycler>=0.10 in /Users/jaytipirneni/.pyenv/versions/3.11.11/lib/python3.11/site-packages (from matplotlib!=3.6.1,>=3.4->seaborn) (0.12.1)\n",
      "Requirement already satisfied: fonttools>=4.22.0 in /Users/jaytipirneni/.pyenv/versions/3.11.11/lib/python3.11/site-packages (from matplotlib!=3.6.1,>=3.4->seaborn) (4.56.0)\n",
      "Requirement already satisfied: kiwisolver>=1.3.1 in /Users/jaytipirneni/.pyenv/versions/3.11.11/lib/python3.11/site-packages (from matplotlib!=3.6.1,>=3.4->seaborn) (1.4.8)\n",
      "Requirement already satisfied: pyparsing>=2.3.1 in /Users/jaytipirneni/.pyenv/versions/3.11.11/lib/python3.11/site-packages (from matplotlib!=3.6.1,>=3.4->seaborn) (3.2.1)\n",
      "Requirement already satisfied: python-dateutil>=2.7 in /Users/jaytipirneni/.pyenv/versions/3.11.11/lib/python3.11/site-packages (from matplotlib!=3.6.1,>=3.4->seaborn) (2.9.0.post0)\n",
      "Requirement already satisfied: pytz>=2020.1 in /Users/jaytipirneni/.pyenv/versions/3.11.11/lib/python3.11/site-packages (from pandas>=1.2->seaborn) (2025.1)\n",
      "Requirement already satisfied: tzdata>=2022.7 in /Users/jaytipirneni/.pyenv/versions/3.11.11/lib/python3.11/site-packages (from pandas>=1.2->seaborn) (2025.1)\n",
      "Requirement already satisfied: mpmath<1.4,>=1.1.0 in /Users/jaytipirneni/.pyenv/versions/3.11.11/lib/python3.11/site-packages (from sympy>=1.13.3->torch) (1.3.0)\n",
      "Requirement already satisfied: MarkupSafe>=2.1.1 in /Users/jaytipirneni/.pyenv/versions/3.11.11/lib/python3.11/site-packages (from werkzeug>=1.0.1->tensorboard) (3.0.2)\n",
      "Requirement already satisfied: httplib2<1.0.0,>=0.19.0 in /Users/jaytipirneni/.pyenv/versions/3.11.11/lib/python3.11/site-packages (from google-api-python-client->google-generativeai) (0.22.0)\n",
      "Requirement already satisfied: google-auth-httplib2<1.0.0,>=0.2.0 in /Users/jaytipirneni/.pyenv/versions/3.11.11/lib/python3.11/site-packages (from google-api-python-client->google-generativeai) (0.2.0)\n",
      "Requirement already satisfied: uritemplate<5,>=3.0.1 in /Users/jaytipirneni/.pyenv/versions/3.11.11/lib/python3.11/site-packages (from google-api-python-client->google-generativeai) (4.1.1)\n",
      "\n",
      "\u001b[1m[\u001b[0m\u001b[34;49mnotice\u001b[0m\u001b[1;39;49m]\u001b[0m\u001b[39;49m A new release of pip is available: \u001b[0m\u001b[31;49m25.1\u001b[0m\u001b[39;49m -> \u001b[0m\u001b[32;49m25.1.1\u001b[0m\n",
      "\u001b[1m[\u001b[0m\u001b[34;49mnotice\u001b[0m\u001b[1;39;49m]\u001b[0m\u001b[39;49m To update, run: \u001b[0m\u001b[32;49mpip install --upgrade pip\u001b[0m\n"
     ]
    }
   ],
   "source": [
    "!pip install seaborn hf_xet torch torchvision transformers tqdm requests datasets accelerate bitsandbytes tensorboard torch-tb-profiler openai anthropic google-generativeai"
   ]
  },
  {
   "cell_type": "code",
   "execution_count": 3,
   "metadata": {},
   "outputs": [
    {
     "name": "stderr",
     "output_type": "stream",
     "text": [
      "/Users/jaytipirneni/.pyenv/versions/3.11.11/lib/python3.11/site-packages/tqdm/auto.py:21: TqdmWarning: IProgress not found. Please update jupyter and ipywidgets. See https://ipywidgets.readthedocs.io/en/stable/user_install.html\n",
      "  from .autonotebook import tqdm as notebook_tqdm\n"
     ]
    },
    {
     "name": "stdout",
     "output_type": "stream",
     "text": [
      "Requirement already satisfied: hf_xet in /Users/jaytipirneni/.pyenv/versions/3.11.11/lib/python3.11/site-packages (1.1.3)\n",
      "Requirement already satisfied: torch in /Users/jaytipirneni/.pyenv/versions/3.11.11/lib/python3.11/site-packages (2.7.0)\n",
      "Requirement already satisfied: torchvision in /Users/jaytipirneni/.pyenv/versions/3.11.11/lib/python3.11/site-packages (0.22.0)\n",
      "Requirement already satisfied: transformers in /Users/jaytipirneni/.pyenv/versions/3.11.11/lib/python3.11/site-packages (4.51.3)\n",
      "Requirement already satisfied: tqdm in /Users/jaytipirneni/.pyenv/versions/3.11.11/lib/python3.11/site-packages (4.67.1)\n",
      "Requirement already satisfied: requests in /Users/jaytipirneni/.pyenv/versions/3.11.11/lib/python3.11/site-packages (2.32.3)\n",
      "Requirement already satisfied: datasets in /Users/jaytipirneni/.pyenv/versions/3.11.11/lib/python3.11/site-packages (3.5.1)\n",
      "Requirement already satisfied: accelerate in /Users/jaytipirneni/.pyenv/versions/3.11.11/lib/python3.11/site-packages (1.6.0)\n",
      "Requirement already satisfied: bitsandbytes in /Users/jaytipirneni/.pyenv/versions/3.11.11/lib/python3.11/site-packages (0.42.0)\n",
      "Requirement already satisfied: tensorboard in /Users/jaytipirneni/.pyenv/versions/3.11.11/lib/python3.11/site-packages (2.19.0)\n",
      "Requirement already satisfied: torch-tb-profiler in /Users/jaytipirneni/.pyenv/versions/3.11.11/lib/python3.11/site-packages (0.4.3)\n",
      "Requirement already satisfied: openai in /Users/jaytipirneni/.pyenv/versions/3.11.11/lib/python3.11/site-packages (1.70.0)\n",
      "Requirement already satisfied: anthropic in /Users/jaytipirneni/.pyenv/versions/3.11.11/lib/python3.11/site-packages (0.50.0)\n",
      "Requirement already satisfied: google-generativeai in /Users/jaytipirneni/.pyenv/versions/3.11.11/lib/python3.11/site-packages (0.8.5)\n",
      "Requirement already satisfied: filelock in /Users/jaytipirneni/.pyenv/versions/3.11.11/lib/python3.11/site-packages (from torch) (3.18.0)\n",
      "Requirement already satisfied: typing-extensions>=4.10.0 in /Users/jaytipirneni/.pyenv/versions/3.11.11/lib/python3.11/site-packages (from torch) (4.12.2)\n",
      "Requirement already satisfied: sympy>=1.13.3 in /Users/jaytipirneni/.pyenv/versions/3.11.11/lib/python3.11/site-packages (from torch) (1.14.0)\n",
      "Requirement already satisfied: networkx in /Users/jaytipirneni/.pyenv/versions/3.11.11/lib/python3.11/site-packages (from torch) (3.4.2)\n",
      "Requirement already satisfied: jinja2 in /Users/jaytipirneni/.pyenv/versions/3.11.11/lib/python3.11/site-packages (from torch) (3.1.6)\n",
      "Requirement already satisfied: fsspec in /Users/jaytipirneni/.pyenv/versions/3.11.11/lib/python3.11/site-packages (from torch) (2025.3.0)\n",
      "Requirement already satisfied: numpy in /Users/jaytipirneni/.pyenv/versions/3.11.11/lib/python3.11/site-packages (from torchvision) (2.2.4)\n",
      "Requirement already satisfied: pillow!=8.3.*,>=5.3.0 in /Users/jaytipirneni/.pyenv/versions/3.11.11/lib/python3.11/site-packages (from torchvision) (11.1.0)\n",
      "Requirement already satisfied: huggingface-hub<1.0,>=0.30.0 in /Users/jaytipirneni/.pyenv/versions/3.11.11/lib/python3.11/site-packages (from transformers) (0.30.2)\n",
      "Requirement already satisfied: packaging>=20.0 in /Users/jaytipirneni/.pyenv/versions/3.11.11/lib/python3.11/site-packages (from transformers) (24.2)\n",
      "Requirement already satisfied: pyyaml>=5.1 in /Users/jaytipirneni/.pyenv/versions/3.11.11/lib/python3.11/site-packages (from transformers) (6.0.2)\n",
      "Requirement already satisfied: regex!=2019.12.17 in /Users/jaytipirneni/.pyenv/versions/3.11.11/lib/python3.11/site-packages (from transformers) (2024.11.6)\n",
      "Requirement already satisfied: tokenizers<0.22,>=0.21 in /Users/jaytipirneni/.pyenv/versions/3.11.11/lib/python3.11/site-packages (from transformers) (0.21.1)\n",
      "Requirement already satisfied: safetensors>=0.4.3 in /Users/jaytipirneni/.pyenv/versions/3.11.11/lib/python3.11/site-packages (from transformers) (0.5.3)\n",
      "Requirement already satisfied: charset-normalizer<4,>=2 in /Users/jaytipirneni/.pyenv/versions/3.11.11/lib/python3.11/site-packages (from requests) (3.4.1)\n",
      "Requirement already satisfied: idna<4,>=2.5 in /Users/jaytipirneni/.pyenv/versions/3.11.11/lib/python3.11/site-packages (from requests) (3.10)\n",
      "Requirement already satisfied: urllib3<3,>=1.21.1 in /Users/jaytipirneni/.pyenv/versions/3.11.11/lib/python3.11/site-packages (from requests) (2.3.0)\n",
      "Requirement already satisfied: certifi>=2017.4.17 in /Users/jaytipirneni/.pyenv/versions/3.11.11/lib/python3.11/site-packages (from requests) (2025.1.31)\n",
      "Requirement already satisfied: pyarrow>=15.0.0 in /Users/jaytipirneni/.pyenv/versions/3.11.11/lib/python3.11/site-packages (from datasets) (20.0.0)\n",
      "Requirement already satisfied: dill<0.3.9,>=0.3.0 in /Users/jaytipirneni/.pyenv/versions/3.11.11/lib/python3.11/site-packages (from datasets) (0.3.8)\n",
      "Requirement already satisfied: pandas in /Users/jaytipirneni/.pyenv/versions/3.11.11/lib/python3.11/site-packages (from datasets) (2.2.3)\n",
      "Requirement already satisfied: xxhash in /Users/jaytipirneni/.pyenv/versions/3.11.11/lib/python3.11/site-packages (from datasets) (3.5.0)\n",
      "Requirement already satisfied: multiprocess<0.70.17 in /Users/jaytipirneni/.pyenv/versions/3.11.11/lib/python3.11/site-packages (from datasets) (0.70.16)\n",
      "Requirement already satisfied: aiohttp in /Users/jaytipirneni/.pyenv/versions/3.11.11/lib/python3.11/site-packages (from datasets) (3.11.18)\n",
      "Requirement already satisfied: psutil in /Users/jaytipirneni/.pyenv/versions/3.11.11/lib/python3.11/site-packages (from accelerate) (7.0.0)\n",
      "Requirement already satisfied: scipy in /Users/jaytipirneni/.pyenv/versions/3.11.11/lib/python3.11/site-packages (from bitsandbytes) (1.15.2)\n",
      "Requirement already satisfied: absl-py>=0.4 in /Users/jaytipirneni/.pyenv/versions/3.11.11/lib/python3.11/site-packages (from tensorboard) (2.2.2)\n",
      "Requirement already satisfied: grpcio>=1.48.2 in /Users/jaytipirneni/.pyenv/versions/3.11.11/lib/python3.11/site-packages (from tensorboard) (1.71.0)\n",
      "Requirement already satisfied: markdown>=2.6.8 in /Users/jaytipirneni/.pyenv/versions/3.11.11/lib/python3.11/site-packages (from tensorboard) (3.8)\n",
      "Requirement already satisfied: protobuf!=4.24.0,>=3.19.6 in /Users/jaytipirneni/.pyenv/versions/3.11.11/lib/python3.11/site-packages (from tensorboard) (5.29.4)\n",
      "Requirement already satisfied: setuptools>=41.0.0 in /Users/jaytipirneni/.pyenv/versions/3.11.11/lib/python3.11/site-packages (from tensorboard) (65.5.0)\n",
      "Requirement already satisfied: six>1.9 in /Users/jaytipirneni/.pyenv/versions/3.11.11/lib/python3.11/site-packages (from tensorboard) (1.17.0)\n",
      "Requirement already satisfied: tensorboard-data-server<0.8.0,>=0.7.0 in /Users/jaytipirneni/.pyenv/versions/3.11.11/lib/python3.11/site-packages (from tensorboard) (0.7.2)\n",
      "Requirement already satisfied: werkzeug>=1.0.1 in /Users/jaytipirneni/.pyenv/versions/3.11.11/lib/python3.11/site-packages (from tensorboard) (3.1.3)\n",
      "Requirement already satisfied: anyio<5,>=3.5.0 in /Users/jaytipirneni/.pyenv/versions/3.11.11/lib/python3.11/site-packages (from openai) (4.9.0)\n",
      "Requirement already satisfied: distro<2,>=1.7.0 in /Users/jaytipirneni/.pyenv/versions/3.11.11/lib/python3.11/site-packages (from openai) (1.9.0)\n",
      "Requirement already satisfied: httpx<1,>=0.23.0 in /Users/jaytipirneni/.pyenv/versions/3.11.11/lib/python3.11/site-packages (from openai) (0.28.1)\n",
      "Requirement already satisfied: jiter<1,>=0.4.0 in /Users/jaytipirneni/.pyenv/versions/3.11.11/lib/python3.11/site-packages (from openai) (0.9.0)\n",
      "Requirement already satisfied: pydantic<3,>=1.9.0 in /Users/jaytipirneni/.pyenv/versions/3.11.11/lib/python3.11/site-packages (from openai) (2.11.1)\n",
      "Requirement already satisfied: sniffio in /Users/jaytipirneni/.pyenv/versions/3.11.11/lib/python3.11/site-packages (from openai) (1.3.1)\n",
      "Requirement already satisfied: httpcore==1.* in /Users/jaytipirneni/.pyenv/versions/3.11.11/lib/python3.11/site-packages (from httpx<1,>=0.23.0->openai) (1.0.7)\n",
      "Requirement already satisfied: h11<0.15,>=0.13 in /Users/jaytipirneni/.pyenv/versions/3.11.11/lib/python3.11/site-packages (from httpcore==1.*->httpx<1,>=0.23.0->openai) (0.14.0)\n",
      "Requirement already satisfied: annotated-types>=0.6.0 in /Users/jaytipirneni/.pyenv/versions/3.11.11/lib/python3.11/site-packages (from pydantic<3,>=1.9.0->openai) (0.7.0)\n",
      "Requirement already satisfied: pydantic-core==2.33.0 in /Users/jaytipirneni/.pyenv/versions/3.11.11/lib/python3.11/site-packages (from pydantic<3,>=1.9.0->openai) (2.33.0)\n",
      "Requirement already satisfied: typing-inspection>=0.4.0 in /Users/jaytipirneni/.pyenv/versions/3.11.11/lib/python3.11/site-packages (from pydantic<3,>=1.9.0->openai) (0.4.0)\n",
      "Requirement already satisfied: google-ai-generativelanguage==0.6.15 in /Users/jaytipirneni/.pyenv/versions/3.11.11/lib/python3.11/site-packages (from google-generativeai) (0.6.15)\n",
      "Requirement already satisfied: google-api-core in /Users/jaytipirneni/.pyenv/versions/3.11.11/lib/python3.11/site-packages (from google-generativeai) (2.25.0rc1)\n",
      "Requirement already satisfied: google-api-python-client in /Users/jaytipirneni/.pyenv/versions/3.11.11/lib/python3.11/site-packages (from google-generativeai) (2.169.0)\n",
      "Requirement already satisfied: google-auth>=2.15.0 in /Users/jaytipirneni/.pyenv/versions/3.11.11/lib/python3.11/site-packages (from google-generativeai) (2.40.0)\n",
      "Requirement already satisfied: proto-plus<2.0.0dev,>=1.22.3 in /Users/jaytipirneni/.pyenv/versions/3.11.11/lib/python3.11/site-packages (from google-ai-generativelanguage==0.6.15->google-generativeai) (1.26.1)\n",
      "Requirement already satisfied: googleapis-common-protos<2.0.0,>=1.56.2 in /Users/jaytipirneni/.pyenv/versions/3.11.11/lib/python3.11/site-packages (from google-api-core->google-generativeai) (1.70.0)\n",
      "Requirement already satisfied: grpcio-status<2.0.0,>=1.33.2 in /Users/jaytipirneni/.pyenv/versions/3.11.11/lib/python3.11/site-packages (from google-api-core[grpc]!=2.0.*,!=2.1.*,!=2.10.*,!=2.2.*,!=2.3.*,!=2.4.*,!=2.5.*,!=2.6.*,!=2.7.*,!=2.8.*,!=2.9.*,<3.0.0dev,>=1.34.1->google-ai-generativelanguage==0.6.15->google-generativeai) (1.71.0)\n",
      "Requirement already satisfied: cachetools<6.0,>=2.0.0 in /Users/jaytipirneni/.pyenv/versions/3.11.11/lib/python3.11/site-packages (from google-auth>=2.15.0->google-generativeai) (5.5.2)\n",
      "Requirement already satisfied: pyasn1-modules>=0.2.1 in /Users/jaytipirneni/.pyenv/versions/3.11.11/lib/python3.11/site-packages (from google-auth>=2.15.0->google-generativeai) (0.4.2)\n",
      "Requirement already satisfied: rsa<5,>=3.1.4 in /Users/jaytipirneni/.pyenv/versions/3.11.11/lib/python3.11/site-packages (from google-auth>=2.15.0->google-generativeai) (4.9.1)\n",
      "Requirement already satisfied: pyasn1>=0.1.3 in /Users/jaytipirneni/.pyenv/versions/3.11.11/lib/python3.11/site-packages (from rsa<5,>=3.1.4->google-auth>=2.15.0->google-generativeai) (0.6.1)\n",
      "Requirement already satisfied: aiohappyeyeballs>=2.3.0 in /Users/jaytipirneni/.pyenv/versions/3.11.11/lib/python3.11/site-packages (from aiohttp->datasets) (2.6.1)\n",
      "Requirement already satisfied: aiosignal>=1.1.2 in /Users/jaytipirneni/.pyenv/versions/3.11.11/lib/python3.11/site-packages (from aiohttp->datasets) (1.3.2)\n",
      "Requirement already satisfied: attrs>=17.3.0 in /Users/jaytipirneni/.pyenv/versions/3.11.11/lib/python3.11/site-packages (from aiohttp->datasets) (25.3.0)\n",
      "Requirement already satisfied: frozenlist>=1.1.1 in /Users/jaytipirneni/.pyenv/versions/3.11.11/lib/python3.11/site-packages (from aiohttp->datasets) (1.6.0)\n",
      "Requirement already satisfied: multidict<7.0,>=4.5 in /Users/jaytipirneni/.pyenv/versions/3.11.11/lib/python3.11/site-packages (from aiohttp->datasets) (6.4.3)\n",
      "Requirement already satisfied: propcache>=0.2.0 in /Users/jaytipirneni/.pyenv/versions/3.11.11/lib/python3.11/site-packages (from aiohttp->datasets) (0.3.1)\n",
      "Requirement already satisfied: yarl<2.0,>=1.17.0 in /Users/jaytipirneni/.pyenv/versions/3.11.11/lib/python3.11/site-packages (from aiohttp->datasets) (1.20.0)\n",
      "Requirement already satisfied: python-dateutil>=2.8.2 in /Users/jaytipirneni/.pyenv/versions/3.11.11/lib/python3.11/site-packages (from pandas->datasets) (2.9.0.post0)\n",
      "Requirement already satisfied: pytz>=2020.1 in /Users/jaytipirneni/.pyenv/versions/3.11.11/lib/python3.11/site-packages (from pandas->datasets) (2025.1)\n",
      "Requirement already satisfied: tzdata>=2022.7 in /Users/jaytipirneni/.pyenv/versions/3.11.11/lib/python3.11/site-packages (from pandas->datasets) (2025.1)\n",
      "Requirement already satisfied: mpmath<1.4,>=1.1.0 in /Users/jaytipirneni/.pyenv/versions/3.11.11/lib/python3.11/site-packages (from sympy>=1.13.3->torch) (1.3.0)\n",
      "Requirement already satisfied: MarkupSafe>=2.1.1 in /Users/jaytipirneni/.pyenv/versions/3.11.11/lib/python3.11/site-packages (from werkzeug>=1.0.1->tensorboard) (3.0.2)\n",
      "Requirement already satisfied: httplib2<1.0.0,>=0.19.0 in /Users/jaytipirneni/.pyenv/versions/3.11.11/lib/python3.11/site-packages (from google-api-python-client->google-generativeai) (0.22.0)\n",
      "Requirement already satisfied: google-auth-httplib2<1.0.0,>=0.2.0 in /Users/jaytipirneni/.pyenv/versions/3.11.11/lib/python3.11/site-packages (from google-api-python-client->google-generativeai) (0.2.0)\n",
      "Requirement already satisfied: uritemplate<5,>=3.0.1 in /Users/jaytipirneni/.pyenv/versions/3.11.11/lib/python3.11/site-packages (from google-api-python-client->google-generativeai) (4.1.1)\n",
      "Requirement already satisfied: pyparsing!=3.0.0,!=3.0.1,!=3.0.2,!=3.0.3,<4,>=2.4.2 in /Users/jaytipirneni/.pyenv/versions/3.11.11/lib/python3.11/site-packages (from httplib2<1.0.0,>=0.19.0->google-api-python-client->google-generativeai) (3.2.1)\n",
      "\n",
      "\u001b[1m[\u001b[0m\u001b[34;49mnotice\u001b[0m\u001b[1;39;49m]\u001b[0m\u001b[39;49m A new release of pip is available: \u001b[0m\u001b[31;49m25.1\u001b[0m\u001b[39;49m -> \u001b[0m\u001b[32;49m25.1.1\u001b[0m\n",
      "\u001b[1m[\u001b[0m\u001b[34;49mnotice\u001b[0m\u001b[1;39;49m]\u001b[0m\u001b[39;49m To update, run: \u001b[0m\u001b[32;49mpip install --upgrade pip\u001b[0m\n",
      "Using device: mps\n",
      "Torch: 2.7.0   Free RAM: 7.491076096 GB\n",
      "MPS cap: True\n",
      "macOS-13.4-arm64-arm-64bit 2.7.0\n",
      "MPS available: True\n",
      "Loading HaluEval dataset from Hugging Face...\n",
      "Loading qa dataset...\n",
      "Loading dialogue dataset...\n",
      "Loading summarization dataset...\n",
      "Loading general dataset...\n",
      "Merging all training data...\n",
      "Merging all test data...\n",
      "HaluEval dataset preparation complete!\n",
      "Train data: data/halueval/train.jsonl\n",
      "Test data: data/halueval/test.jsonl\n"
     ]
    }
   ],
   "source": [
    "# --- core python libs ---\n",
    "import os, json, pickle, random, math, itertools\n",
    "from collections import defaultdict, Counter\n",
    "\n",
    "# --- scientific stack ---\n",
    "import torch, numpy as np, pandas as pd\n",
    "from tqdm import tqdm\n",
    "import matplotlib.pyplot as plt;  plt.style.use(\"ggplot\")\n",
    "import seaborn as sns\n",
    "\n",
    "# --- hugging-face & datasets ---\n",
    "from datasets import load_dataset\n",
    "from transformers import AutoTokenizer\n",
    "\n",
    "# --- your ENN components ---\n",
    "#  (if they live in another notebook / .py file, adjust the import path)\n",
    "import import_ipynb                     # enables ipynb imports\n",
    "from enn_helpers import LlamaBaseNet, EpiNet, PriorNet, EpistemicNN, sample_z\n",
    "\n",
    "z_dim = 16"
   ]
  },
  {
   "cell_type": "code",
   "execution_count": 4,
   "metadata": {},
   "outputs": [
    {
     "name": "stdout",
     "output_type": "stream",
     "text": [
      "evaluating on mps\n"
     ]
    }
   ],
   "source": [
    "device = torch.device(\n",
    "    \"mps\" if torch.backends.mps.is_available() else\n",
    "    \"cuda\" if torch.cuda.is_available() else\n",
    "    \"cpu\"\n",
    ")\n",
    "print(\"evaluating on\", device)"
   ]
  },
  {
   "cell_type": "code",
   "execution_count": 5,
   "metadata": {},
   "outputs": [],
   "source": [
    "enn_ckpt_path = \"enn_halueval_model.pt\"           # your saved ENN\n",
    "base_model_name = \"TinyLlama/TinyLlama-1.1B-Chat-v1.0\" # the base encoder used in training\n",
    "num_classes     = 2                               # factual vs hallucination\n",
    "max_length      = 128                             # token length for ENN\n",
    "\n",
    "\n",
    "ensemble_models = [\n",
    "    \"gpt-4o\",\n",
    "    \"gpt-4.1-2025-04-14\",\n",
    "    \"claude-sonnet-4-20250514\",\n",
    "    \"claude-opus-4-20250514\"\n",
    "]\n",
    "\n",
    "rng = random.Random(42)"
   ]
  },
  {
   "cell_type": "code",
   "execution_count": 6,
   "metadata": {},
   "outputs": [
    {
     "name": "stdout",
     "output_type": "stream",
     "text": [
      "✔ ENN loaded.\n"
     ]
    }
   ],
   "source": [
    "def load_enn(ckpt:str):\n",
    "    \"\"\"Re-build the architecture exactly as in training, then load weights.\"\"\"\n",
    "    # base encoder the ENN wraps\n",
    "    base   = LlamaBaseNet(base_model_name, num_classes).to(device)\n",
    "    feat_d = base.hidden_size\n",
    "\n",
    "    # same latent/hyper-params you used when training\n",
    "    z_dim, hidden_dims = 16, [128, 64]\n",
    "    epinet = EpiNet(feat_d, z_dim, hidden_dims, num_classes).to(device)\n",
    "    prior  = PriorNet(feat_d, z_dim, num_classes).to(device)\n",
    "\n",
    "    enn = EpistemicNN(base, epinet, prior).to(device)\n",
    "    state = torch.load(ckpt, map_location=device)\n",
    "    enn.load_state_dict(state)\n",
    "    enn.eval()\n",
    "\n",
    "    return enn, base.tokenizer\n",
    "\n",
    "enn, tokenizer = load_enn(enn_ckpt_path)\n",
    "print(\"✔ ENN loaded.\")"
   ]
  },
  {
   "cell_type": "code",
   "execution_count": 7,
   "metadata": {},
   "outputs": [],
   "source": [
    "@torch.inference_mode()\n",
    "def enn_uncertainty(question: str,\n",
    "                    answer:   str,\n",
    "                    z_dim:    int,\n",
    "                    num_samples: int = 8) -> float:\n",
    "    \"\"\"\n",
    "    Run the ENN `num_samples` times with different epistemic indices z.\n",
    "    Return the summed variance of the logits (scalar uncertainty).\n",
    "    \"\"\"\n",
    "    text = f\"User query: {question}\\nAnswer: {answer}\"\n",
    "    ids  = tokenizer(\n",
    "        text,\n",
    "        padding=\"max_length\",\n",
    "        truncation=True,\n",
    "        max_length=max_length,\n",
    "        return_tensors=\"pt\"\n",
    "    ).input_ids.to(device)\n",
    "\n",
    "    logits_samples = []\n",
    "    for _ in range(num_samples):\n",
    "        z = sample_z(1, z_dim, device)          # ← draw an epistemic index\n",
    "        logits = enn(ids, z)                    # forward pass\n",
    "        logits_samples.append(logits.squeeze(0))  # [num_classes]\n",
    "\n",
    "    stack = torch.stack(logits_samples)          # [S, num_classes]\n",
    "    return stack.var(0).sum().item()             # scalar"
   ]
  },
  {
   "cell_type": "code",
   "execution_count": 10,
   "metadata": {},
   "outputs": [],
   "source": [
    "import time, httpx\n",
    "import openai, anthropic, google.generativeai as genai\n",
    "\n",
    "openai_client     = openai.Client()\n",
    "anthropic_client  = anthropic.Anthropic()\n",
    "genai.configure()                                   # Google\n",
    "\n",
    "def _retry_loop(fn, max_tries=4, delay=2.0):\n",
    "    for attempt in range(max_tries):\n",
    "        try:\n",
    "            return fn()\n",
    "        except (openai.OpenAIError,\n",
    "                anthropic.APIStatusError,\n",
    "                httpx.TimeoutException,\n",
    "                TimeoutError) as e:\n",
    "            if attempt == max_tries - 1:\n",
    "                raise\n",
    "            wait = delay * (2 ** attempt)\n",
    "            print(f\"⚠️  {e.__class__.__name__}: retrying in {wait:.1f}s …\")\n",
    "            time.sleep(wait)\n",
    "\n",
    "def call_model(model_name: str,\n",
    "               prompt: str,\n",
    "               timeout_s: float = 60.0,\n",
    "               max_tries: int  = 4) -> str:\n",
    "\n",
    "    def _openai():\n",
    "        resp = openai_client.chat.completions.create(\n",
    "            model=model_name,                      # ← single ‘model=’\n",
    "            messages=[{\"role\": \"user\", \"content\": prompt}],\n",
    "            temperature=0.5,\n",
    "            timeout=timeout_s\n",
    "        )\n",
    "        return resp.choices[0].message.content.strip()\n",
    "\n",
    "    def _anthropic():\n",
    "        resp = anthropic_client.messages.create(\n",
    "            model=model_name,\n",
    "            max_tokens=1024,\n",
    "            temperature=0.5,\n",
    "            messages=[{\"role\": \"user\", \"content\": prompt}],\n",
    "            timeout=timeout_s\n",
    "        )\n",
    "        return resp.content[0].text.strip()\n",
    "\n",
    "    def _gemini():\n",
    "        model = genai.GenerativeModel(model_name)\n",
    "        with httpx.Client(timeout=timeout_s):\n",
    "            resp = model.generate_content(\n",
    "                prompt,\n",
    "                generation_config={\"temperature\": 0.5}\n",
    "            )\n",
    "        return resp.text.strip()\n",
    "\n",
    "    if model_name.startswith(\"gpt\"):\n",
    "        return _retry_loop(_openai,   max_tries)\n",
    "    elif model_name.startswith(\"claude\"):\n",
    "        return _retry_loop(_anthropic, max_tries)\n",
    "    elif model_name.startswith(\"gemini\"):\n",
    "        return _retry_loop(_gemini,    max_tries)\n",
    "    else:\n",
    "        raise ValueError(f\"unknown model → {model_name}\")"
   ]
  },
  {
   "cell_type": "code",
   "execution_count": 11,
   "metadata": {},
   "outputs": [],
   "source": [
    "CACHE_F = \"truthful_qa_cache.pkl\"\n",
    "cache = pickle.load(open(CACHE_F, \"rb\")) if os.path.exists(CACHE_F) else {}\n",
    "\n",
    "def cached_call(model:str, prompt:str) -> str:\n",
    "    key = (model, prompt)\n",
    "    if key not in cache:\n",
    "        cache[key] = call_model(model, prompt)\n",
    "    return cache[key]"
   ]
  },
  {
   "cell_type": "code",
   "execution_count": 12,
   "metadata": {},
   "outputs": [
    {
     "name": "stdout",
     "output_type": "stream",
     "text": [
      "817 questions loaded.\n"
     ]
    }
   ],
   "source": [
    "truthful = load_dataset(\"truthful_qa\", \"generation\", split=\"validation\")\n",
    "print(f\"{len(truthful)} questions loaded.\")"
   ]
  },
  {
   "cell_type": "code",
   "execution_count": null,
   "metadata": {},
   "outputs": [
    {
     "name": "stderr",
     "output_type": "stream",
     "text": [
      "  2%|▏         | 13/817 [07:24<6:15:16, 28.01s/it]"
     ]
    }
   ],
   "source": [
    "records         = []                   # full logs\n",
    "selection_count = Counter()            # how often ENN picks each model\n",
    "\n",
    "for row in tqdm(truthful, total=len(truthful)):\n",
    "    q = row[\"question\"]\n",
    "\n",
    "    # 1. generate answers from every model in the ensemble\n",
    "    answers, uncertainties = {}, {}\n",
    "    for m in ensemble_models:\n",
    "        ans                      = cached_call(m, q)\n",
    "        answers[m]               = ans\n",
    "        uncertainties[m]         = enn_uncertainty(q, ans, z_dim)\n",
    "\n",
    "    # 2. ENN chooses the most certain answer\n",
    "    best_model = min(uncertainties, key=uncertainties.get)\n",
    "    selection_count[best_model] += 1\n",
    "\n",
    "    records.append(\n",
    "        {\n",
    "            \"question\"     : q,\n",
    "            \"ground_truth\" : row[\"best_answer\"],\n",
    "            \"winner_model\" : best_model,\n",
    "            \"winner_answer\": answers[best_model],\n",
    "            \"winner_unc\"   : uncertainties[best_model],\n",
    "            **{f\"{m}_unc\":u for m,u in uncertainties.items()}\n",
    "        }\n",
    "    )\n",
    "\n",
    "# persist the API-call cache for potential resume\n",
    "with open(CACHE_F, \"wb\") as f:  pickle.dump(cache, f)\n",
    "\n",
    "results_df = pd.DataFrame(records)\n",
    "print(\"✓ evaluation finished\")"
   ]
  },
  {
   "cell_type": "code",
   "execution_count": 12,
   "metadata": {},
   "outputs": [
    {
     "name": "stdout",
     "output_type": "stream",
     "text": [
      "\n",
      "Overall EM accuracy of ENN-selected answers: 0.000%\n"
     ]
    }
   ],
   "source": [
    "def em(pred, gold):   # case- & space-insensitive\n",
    "    return pred.strip().lower() == gold.strip().lower()\n",
    "\n",
    "results_df[\"correct\"] = results_df.apply(\n",
    "    lambda r: em(r.winner_answer, r.ground_truth), axis=1\n",
    ")\n",
    "overall_acc = results_df.correct.mean()\n",
    "print(f\"\\nOverall EM accuracy of ENN-selected answers: {overall_acc:.3%}\")"
   ]
  },
  {
   "cell_type": "code",
   "execution_count": 13,
   "metadata": {},
   "outputs": [
    {
     "name": "stderr",
     "output_type": "stream",
     "text": [
      "/var/folders/gl/09jc9_ws3n32w206sfy45nxm0000gn/T/ipykernel_25706/1424506449.py:3: FutureWarning: \n",
      "\n",
      "Passing `palette` without assigning `hue` is deprecated and will be removed in v0.14.0. Assign the `x` variable to `hue` and set `legend=False` for the same effect.\n",
      "\n",
      "  sns.barplot(\n"
     ]
    },
    {
     "data": {
      "image/png": "[encoded data removed]",
      "text/plain": [
       "<Figure size 600x400 with 1 Axes>"
      ]
     },
     "metadata": {},
     "output_type": "display_data"
    },
    {
     "name": "stderr",
     "output_type": "stream",
     "text": [
      "/var/folders/gl/09jc9_ws3n32w206sfy45nxm0000gn/T/ipykernel_25706/1424506449.py:25: FutureWarning: \n",
      "\n",
      "Passing `palette` without assigning `hue` is deprecated and will be removed in v0.14.0. Assign the `x` variable to `hue` and set `legend=False` for the same effect.\n",
      "\n",
      "  sns.violinplot(data=melted, x=\"model\", y=\"uncertainty\", palette=\"pastel\")\n"
     ]
    },
    {
     "data": {
      "image/png": "[encoded data removed]",
      "text/plain": [
       "<Figure size 700x400 with 1 Axes>"
      ]
     },
     "metadata": {},
     "output_type": "display_data"
    },
    {
     "name": "stderr",
     "output_type": "stream",
     "text": [
      "/var/folders/gl/09jc9_ws3n32w206sfy45nxm0000gn/T/ipykernel_25706/1424506449.py:36: FutureWarning: \n",
      "\n",
      "Passing `palette` without assigning `hue` is deprecated and will be removed in v0.14.0. Assign the `x` variable to `hue` and set `legend=False` for the same effect.\n",
      "\n",
      "  sns.barplot(data=acc_by_model, x=\"winner_model\", y=\"correct\", palette=\"Set3\")\n"
     ]
    },
    {
     "data": {
      "image/png": "[encoded data removed]",
      "text/plain": [
       "<Figure size 600x400 with 1 Axes>"
      ]
     },
     "metadata": {},
     "output_type": "display_data"
    }
   ],
   "source": [
    "# --- 1)  selection frequency barplot -------------------\n",
    "plt.figure(figsize=(6,4))\n",
    "sns.barplot(\n",
    "    x=list(selection_count.keys()),\n",
    "    y=list(selection_count.values()),\n",
    "    palette=\"Set2\"\n",
    ")\n",
    "plt.title(\"Model selected by ENN (count)\")\n",
    "plt.ylabel(\"times chosen\");  plt.xlabel(\"model name\");  plt.xticks(rotation=15)\n",
    "plt.tight_layout()\n",
    "plt.show()\n",
    "\n",
    "# --- 2)  uncertainty distribution violin ---------------\n",
    "melted = (\n",
    "    results_df\n",
    "      .melt(\n",
    "          id_vars=[\"question\"], \n",
    "          value_vars=[f\"{m}_unc\" for m in ensemble_models],\n",
    "          var_name=\"model\", value_name=\"uncertainty\"\n",
    "      )\n",
    "      .assign(model=lambda d: d.model.str.replace(\"_unc\",\"\"))\n",
    ")\n",
    "\n",
    "plt.figure(figsize=(7,4))\n",
    "sns.violinplot(data=melted, x=\"model\", y=\"uncertainty\", palette=\"pastel\")\n",
    "plt.title(\"Epistemic uncertainty per model\")\n",
    "plt.xticks(rotation=15)\n",
    "plt.tight_layout()\n",
    "plt.show()\n",
    "\n",
    "# --- 3)  accuracy broken down by chosen model ----------\n",
    "acc_by_model = (\n",
    "    results_df.groupby(\"winner_model\")[\"correct\"].mean().reset_index()\n",
    ")\n",
    "plt.figure(figsize=(6,4))\n",
    "sns.barplot(data=acc_by_model, x=\"winner_model\", y=\"correct\", palette=\"Set3\")\n",
    "plt.title(\"TruthfulQA EM – when model is selected\")\n",
    "plt.ylabel(\"accuracy\"); plt.ylim(0,1); plt.xticks(rotation=15)\n",
    "plt.tight_layout()\n",
    "plt.show()"
   ]
  },
  {
   "cell_type": "code",
   "execution_count": null,
   "metadata": {},
   "outputs": [],
   "source": []
  }
 ],
 "metadata": {
  "kernelspec": {
   "display_name": "Python 3",
   "language": "python",
   "name": "python3"
  },
  "language_info": {
   "codemirror_mode": {
    "name": "ipython",
    "version": 3
   },
   "file_extension": ".py",
   "mimetype": "text/x-python",
   "name": "python",
   "nbconvert_exporter": "python",
   "pygments_lexer": "ipython3",
   "version": "3.11.11"
  }
 },
 "nbformat": 4,
 "nbformat_minor": 2
}
