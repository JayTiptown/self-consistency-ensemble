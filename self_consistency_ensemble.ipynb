{
  "nbformat": 4,
  "nbformat_minor": 0,
  "metadata": {
    "colab": {
      "provenance": [],
      "include_colab_link": true
    },
    "kernelspec": {
      "name": "python3",
      "display_name": "Python 3"
    },
    "language_info": {
      "name": "python"
    }
  },
  "cells": [
    {
      "cell_type": "markdown",
      "metadata": {
        "id": "view-in-github",
        "colab_type": "text"
      },
      "source": [
        "<a href=\"https://colab.research.google.com/github/JayTiptown/self-consistency-ensemble/blob/self-consistency/self_consistency_ensemble.ipynb\" target=\"_parent\"><img src=\"https://colab.research.google.com/assets/colab-badge.svg\" alt=\"Open In Colab\"/></a>"
      ]
    },
    {
      "cell_type": "code",
      "execution_count": 1,
      "metadata": {
        "id": "dEFig8ikVHu7"
      },
      "outputs": [],
      "source": [
        "# imports\n",
        "\n",
        "import asyncio\n",
        "import random\n",
        "from collections import defaultdict\n",
        "import nest_asyncio\n",
        "nest_asyncio.apply()  # Needed to run asyncio in Colab\n",
        "import numpy as np\n",
        "import matplotlib.pyplot as plt\n",
        "from matplotlib.animation import FuncAnimation\n",
        "import pandas as pd\n",
        "from google.colab import userdata"
      ]
    },
    {
      "cell_type": "code",
      "source": [
        "# model import\n",
        "\n",
        "!pip install openai\n",
        "!pip install anthropic\n",
        "!pip install google-genai\n",
        "\n",
        "import openai\n",
        "import anthropic\n",
        "import google.genai\n",
        "\n",
        "openai.api_key = userdata.get(\"OPENAI_API_KEY\")\n",
        "anthropic.api_key = userdata.get(\"ANTHROPIC_API_KEY\")\n",
        "# google.genai.api_key = userdata.get(\"GEMINI_API_KEY\")"
      ],
      "metadata": {
        "colab": {
          "base_uri": "https://localhost:8080/"
        },
        "collapsed": true,
        "id": "eUZQyuheV2vV",
        "outputId": "cfcffe2f-90bc-4aef-bd16-de1e0b4c386b"
      },
      "execution_count": 2,
      "outputs": [
        {
          "output_type": "stream",
          "name": "stdout",
          "text": [
            "Requirement already satisfied: openai in /usr/local/lib/python3.11/dist-packages (1.77.0)\n",
            "Requirement already satisfied: anyio<5,>=3.5.0 in /usr/local/lib/python3.11/dist-packages (from openai) (4.9.0)\n",
            "Requirement already satisfied: distro<2,>=1.7.0 in /usr/local/lib/python3.11/dist-packages (from openai) (1.9.0)\n",
            "Requirement already satisfied: httpx<1,>=0.23.0 in /usr/local/lib/python3.11/dist-packages (from openai) (0.28.1)\n",
            "Requirement already satisfied: jiter<1,>=0.4.0 in /usr/local/lib/python3.11/dist-packages (from openai) (0.9.0)\n",
            "Requirement already satisfied: pydantic<3,>=1.9.0 in /usr/local/lib/python3.11/dist-packages (from openai) (2.11.4)\n",
            "Requirement already satisfied: sniffio in /usr/local/lib/python3.11/dist-packages (from openai) (1.3.1)\n",
            "Requirement already satisfied: tqdm>4 in /usr/local/lib/python3.11/dist-packages (from openai) (4.67.1)\n",
            "Requirement already satisfied: typing-extensions<5,>=4.11 in /usr/local/lib/python3.11/dist-packages (from openai) (4.13.2)\n",
            "Requirement already satisfied: idna>=2.8 in /usr/local/lib/python3.11/dist-packages (from anyio<5,>=3.5.0->openai) (3.10)\n",
            "Requirement already satisfied: certifi in /usr/local/lib/python3.11/dist-packages (from httpx<1,>=0.23.0->openai) (2025.4.26)\n",
            "Requirement already satisfied: httpcore==1.* in /usr/local/lib/python3.11/dist-packages (from httpx<1,>=0.23.0->openai) (1.0.9)\n",
            "Requirement already satisfied: h11>=0.16 in /usr/local/lib/python3.11/dist-packages (from httpcore==1.*->httpx<1,>=0.23.0->openai) (0.16.0)\n",
            "Requirement already satisfied: annotated-types>=0.6.0 in /usr/local/lib/python3.11/dist-packages (from pydantic<3,>=1.9.0->openai) (0.7.0)\n",
            "Requirement already satisfied: pydantic-core==2.33.2 in /usr/local/lib/python3.11/dist-packages (from pydantic<3,>=1.9.0->openai) (2.33.2)\n",
            "Requirement already satisfied: typing-inspection>=0.4.0 in /usr/local/lib/python3.11/dist-packages (from pydantic<3,>=1.9.0->openai) (0.4.0)\n",
            "Requirement already satisfied: anthropic in /usr/local/lib/python3.11/dist-packages (0.51.0)\n",
            "Requirement already satisfied: anyio<5,>=3.5.0 in /usr/local/lib/python3.11/dist-packages (from anthropic) (4.9.0)\n",
            "Requirement already satisfied: distro<2,>=1.7.0 in /usr/local/lib/python3.11/dist-packages (from anthropic) (1.9.0)\n",
            "Requirement already satisfied: httpx<1,>=0.25.0 in /usr/local/lib/python3.11/dist-packages (from anthropic) (0.28.1)\n",
            "Requirement already satisfied: jiter<1,>=0.4.0 in /usr/local/lib/python3.11/dist-packages (from anthropic) (0.9.0)\n",
            "Requirement already satisfied: pydantic<3,>=1.9.0 in /usr/local/lib/python3.11/dist-packages (from anthropic) (2.11.4)\n",
            "Requirement already satisfied: sniffio in /usr/local/lib/python3.11/dist-packages (from anthropic) (1.3.1)\n",
            "Requirement already satisfied: typing-extensions<5,>=4.10 in /usr/local/lib/python3.11/dist-packages (from anthropic) (4.13.2)\n",
            "Requirement already satisfied: idna>=2.8 in /usr/local/lib/python3.11/dist-packages (from anyio<5,>=3.5.0->anthropic) (3.10)\n",
            "Requirement already satisfied: certifi in /usr/local/lib/python3.11/dist-packages (from httpx<1,>=0.25.0->anthropic) (2025.4.26)\n",
            "Requirement already satisfied: httpcore==1.* in /usr/local/lib/python3.11/dist-packages (from httpx<1,>=0.25.0->anthropic) (1.0.9)\n",
            "Requirement already satisfied: h11>=0.16 in /usr/local/lib/python3.11/dist-packages (from httpcore==1.*->httpx<1,>=0.25.0->anthropic) (0.16.0)\n",
            "Requirement already satisfied: annotated-types>=0.6.0 in /usr/local/lib/python3.11/dist-packages (from pydantic<3,>=1.9.0->anthropic) (0.7.0)\n",
            "Requirement already satisfied: pydantic-core==2.33.2 in /usr/local/lib/python3.11/dist-packages (from pydantic<3,>=1.9.0->anthropic) (2.33.2)\n",
            "Requirement already satisfied: typing-inspection>=0.4.0 in /usr/local/lib/python3.11/dist-packages (from pydantic<3,>=1.9.0->anthropic) (0.4.0)\n",
            "Requirement already satisfied: google-genai in /usr/local/lib/python3.11/dist-packages (1.14.0)\n",
            "Requirement already satisfied: anyio<5.0.0,>=4.8.0 in /usr/local/lib/python3.11/dist-packages (from google-genai) (4.9.0)\n",
            "Requirement already satisfied: google-auth<3.0.0,>=2.14.1 in /usr/local/lib/python3.11/dist-packages (from google-genai) (2.38.0)\n",
            "Requirement already satisfied: httpx<1.0.0,>=0.28.1 in /usr/local/lib/python3.11/dist-packages (from google-genai) (0.28.1)\n",
            "Requirement already satisfied: pydantic<3.0.0,>=2.0.0 in /usr/local/lib/python3.11/dist-packages (from google-genai) (2.11.4)\n",
            "Requirement already satisfied: requests<3.0.0,>=2.28.1 in /usr/local/lib/python3.11/dist-packages (from google-genai) (2.32.3)\n",
            "Requirement already satisfied: websockets<15.1.0,>=13.0.0 in /usr/local/lib/python3.11/dist-packages (from google-genai) (15.0.1)\n",
            "Requirement already satisfied: typing-extensions<5.0.0,>=4.11.0 in /usr/local/lib/python3.11/dist-packages (from google-genai) (4.13.2)\n",
            "Requirement already satisfied: idna>=2.8 in /usr/local/lib/python3.11/dist-packages (from anyio<5.0.0,>=4.8.0->google-genai) (3.10)\n",
            "Requirement already satisfied: sniffio>=1.1 in /usr/local/lib/python3.11/dist-packages (from anyio<5.0.0,>=4.8.0->google-genai) (1.3.1)\n",
            "Requirement already satisfied: cachetools<6.0,>=2.0.0 in /usr/local/lib/python3.11/dist-packages (from google-auth<3.0.0,>=2.14.1->google-genai) (5.5.2)\n",
            "Requirement already satisfied: pyasn1-modules>=0.2.1 in /usr/local/lib/python3.11/dist-packages (from google-auth<3.0.0,>=2.14.1->google-genai) (0.4.2)\n",
            "Requirement already satisfied: rsa<5,>=3.1.4 in /usr/local/lib/python3.11/dist-packages (from google-auth<3.0.0,>=2.14.1->google-genai) (4.9.1)\n",
            "Requirement already satisfied: certifi in /usr/local/lib/python3.11/dist-packages (from httpx<1.0.0,>=0.28.1->google-genai) (2025.4.26)\n",
            "Requirement already satisfied: httpcore==1.* in /usr/local/lib/python3.11/dist-packages (from httpx<1.0.0,>=0.28.1->google-genai) (1.0.9)\n",
            "Requirement already satisfied: h11>=0.16 in /usr/local/lib/python3.11/dist-packages (from httpcore==1.*->httpx<1.0.0,>=0.28.1->google-genai) (0.16.0)\n",
            "Requirement already satisfied: annotated-types>=0.6.0 in /usr/local/lib/python3.11/dist-packages (from pydantic<3.0.0,>=2.0.0->google-genai) (0.7.0)\n",
            "Requirement already satisfied: pydantic-core==2.33.2 in /usr/local/lib/python3.11/dist-packages (from pydantic<3.0.0,>=2.0.0->google-genai) (2.33.2)\n",
            "Requirement already satisfied: typing-inspection>=0.4.0 in /usr/local/lib/python3.11/dist-packages (from pydantic<3.0.0,>=2.0.0->google-genai) (0.4.0)\n",
            "Requirement already satisfied: charset-normalizer<4,>=2 in /usr/local/lib/python3.11/dist-packages (from requests<3.0.0,>=2.28.1->google-genai) (3.4.2)\n",
            "Requirement already satisfied: urllib3<3,>=1.21.1 in /usr/local/lib/python3.11/dist-packages (from requests<3.0.0,>=2.28.1->google-genai) (2.4.0)\n",
            "Requirement already satisfied: pyasn1<0.7.0,>=0.6.1 in /usr/local/lib/python3.11/dist-packages (from pyasn1-modules>=0.2.1->google-auth<3.0.0,>=2.14.1->google-genai) (0.6.1)\n"
          ]
        }
      ]
    },
    {
      "cell_type": "code",
      "source": [
        "# simulated chain of thought sample\n",
        "\n",
        "async def sample_chain(prompt, model_spec):\n",
        "\n",
        "  provider, model = model_spec\n",
        "\n",
        "  full_prompt = prompt + \"\\nLet's think step by step.\\nAnswer:\"\n",
        "\n",
        "  if provider == 'openai':\n",
        "\n",
        "    # Run the blocking call in a thread so we don't block asyncio\n",
        "    # Use openai.chat.completions.create for chat models like gpt-4\n",
        "    response = await asyncio.to_thread(\n",
        "        openai.chat.completions.create,  # Changed to chat.completions.create\n",
        "        model=\"gpt-4\",     # or any completions model\n",
        "        messages=[{\"role\": \"user\", \"content\": full_prompt}],  # Added messages parameter\n",
        "        temperature=0.7,\n",
        "        max_tokens=150,\n",
        "        # logprobs=1\n",
        "    )\n",
        "\n",
        "    choice = response.choices[0]\n",
        "    trace = choice.message.content  # Access content from message\n",
        "    # crude extraction: last line is the answer\n",
        "    # answer = trace.strip().split(\"\\n\")[-1]\n",
        "    def extract_final_answer(text):\n",
        "      for line in reversed(text.strip().splitlines()):\n",
        "          if line.lower().startswith(\"answer:\"):\n",
        "              return line.split(\":\", 1)[1].strip()\n",
        "      return text.strip().splitlines()[-1].strip()\n",
        "\n",
        "    answer = extract_final_answer(trace)\n",
        "\n",
        "  # fill these out for relevant providers\n",
        "\n",
        "  elif provider == 'anthropic':\n",
        "    pass\n",
        "  elif provider == 'gemini':\n",
        "    pass\n",
        "  else:\n",
        "    raise ValueError(f\"Unknown provider: {provider}\")\n",
        "\n",
        "  total_logprob = 0 # Placeholder logprobs isn't directly supported for chat models.\n",
        "  return answer, total_logprob"
      ],
      "metadata": {
        "id": "ihbTqq96VcGa"
      },
      "execution_count": 3,
      "outputs": []
    },
    {
      "cell_type": "code",
      "source": [
        "# adaptive controller\n",
        "def controller(prompt, max_budget=5):\n",
        "  \"\"\"\n",
        "  Enforce a fixed sampling budget.\n",
        "  \"\"\"\n",
        "  return max_budget"
      ],
      "metadata": {
        "id": "yJDVd6pZVmXt"
      },
      "execution_count": 4,
      "outputs": []
    },
    {
      "cell_type": "code",
      "source": [
        "# parallel orchestrator\n",
        "\n",
        "async def orchestrate_samples(prompt, budget, model_spec):\n",
        "  tasks = [\n",
        "    asyncio.create_task(sample_chain(prompt, model_spec))\n",
        "    for _ in range(budget)\n",
        "  ]\n",
        "  return await asyncio.gather(*tasks)"
      ],
      "metadata": {
        "id": "VLx5N00LVof8"
      },
      "execution_count": 5,
      "outputs": []
    },
    {
      "cell_type": "code",
      "source": [
        "# aggregator\n",
        "\n",
        "from collections import Counter\n",
        "\n",
        "def aggregate_votes(samples):\n",
        "    \"\"\"\n",
        "    samples: list of (answer_str, log_prob_float) – ignores log_prob_float\n",
        "    Returns the answer that appears most frequently (majority vote).\n",
        "    \"\"\"\n",
        "    answers = [answer for answer, _ in samples]\n",
        "    counts = Counter(answers)\n",
        "    winner = counts.most_common(1)[0][0]\n",
        "    return winner, dict(counts)"
      ],
      "metadata": {
        "id": "so7yjA2WVtgP"
      },
      "execution_count": 6,
      "outputs": []
    },
    {
      "cell_type": "code",
      "source": [
        "# self-consistency run\n",
        "def run_self_consistency(prompt, model_spec, max_budget):\n",
        "    budget = controller(prompt, max_budget)\n",
        "    samples = asyncio.run(orchestrate_samples(prompt, budget, model_spec))\n",
        "    winner, counts = aggregate_votes(samples)\n",
        "\n",
        "    print(f\"Prompt:\\n{prompt}\\n\")\n",
        "    print(\"Sampled Answers:\")\n",
        "    for i, (answer, _) in enumerate(samples, 1):\n",
        "        print(f\"{i}: {answer}\")\n",
        "\n",
        "    print(\"\\nAnswer Frequencies:\")\n",
        "    for ans, count in counts.items():\n",
        "        print(f\"{repr(ans)}: {count}\")\n",
        "\n",
        "    print(f\"\\nFinal Answer (Majority Vote):\\n{winner}\")\n",
        "    return winner\n",
        "\n",
        "# Example usage\n",
        "model_spec = ('openai', 'gpt-4')\n",
        "run_self_consistency(\"Who invented the atomic bomb?\", model_spec, max_budget=20)"
      ],
      "metadata": {
        "colab": {
          "base_uri": "https://localhost:8080/",
          "height": 895
        },
        "id": "ngsP-tFIVv6H",
        "outputId": "0b98ccbe-285b-43f2-e60f-a0daa0f660c4"
      },
      "execution_count": 7,
      "outputs": [
        {
          "output_type": "stream",
          "name": "stdout",
          "text": [
            "Prompt:\n",
            "Who invented the atomic bomb?\n",
            "\n",
            "Sampled Answers:\n",
            "1: A team of scientists during the Manhattan Project invented the atomic bomb. The team was led by J. Robert Oppenheimer.\n",
            "2: The atomic bomb was developed by a team of scientists during the Manhattan Project, which was a research project during World War II that was led by the United States with the support of the United Kingdom and Canada. The project director was Major General Leslie Groves of the U.S. Army Corps of Engineers. Nuclear physicist Robert Oppenheimer was the director of the Los Alamos National Laboratory that designed the actual bomb.\n",
            "3: J. Robert Oppenheimer and his team at the Manhattan Project.\n",
            "4: The atomic bomb was developed during World War II by the Manhattan Project, a research team which included scientists such as Robert Oppenheimer, Enrico Fermi, and Richard Feynman. However, Robert Oppenheimer is often referred to as the \"father of the atomic bomb\".\n",
            "5: The atomic bomb was developed by a team of scientists under the Manhattan Project, led by J. Robert Oppenheimer.\n",
            "6: The atomic bomb was developed by a team of scientists during the Manhattan Project, a research project during World War II that was led by the United States with the support of the United Kingdom and Canada. The key figures included Robert Oppenheimer, who was the director of the Los Alamos Laboratory where the bomb was designed, and Enrico Fermi, who created the world's first nuclear reactor.\n",
            "7: The atomic bomb was developed by a team of scientists under the Manhattan Project, led by J. Robert Oppenheimer.\n",
            "8: The atomic bomb was developed by a team of scientists under the leadership of J. Robert Oppenheimer as part of the Manhattan Project during World War II.\n",
            "9: The atomic bomb was developed by a team of scientists under the Manhattan Project, which was led by J. Robert Oppenheimer.\n",
            "10: The atomic bomb was developed by a team of scientists during World War II as part of the Manhattan Project. While many individuals contributed, physicist J. Robert Oppenheimer is often called the \"father of the atomic bomb\" for his role overseeing its development.\n",
            "11: The atomic bomb was developed by a team of scientists during the Manhattan Project, a research project launched by the United States during World War II. Key figures included Robert Oppenheimer, who was the project's lead scientist.\n",
            "12: The atomic bomb was developed by a team of scientists during the Manhattan Project, a research effort during World War II. The project was led by the United States with the support of the United Kingdom and Canada. Key figures include J. Robert Oppenheimer, who is often called the \"father of the atomic bomb.\"\n",
            "13: The atomic bomb was developed by a team of scientists under the code name \"Manhattan Project\" during World War II. The key figures included J. Robert Oppenheimer, who is often called the \"father of the atomic bomb\".\n",
            "14: The atomic bomb was invented by a group of scientists working on the Manhattan Project, but the key figure often associated with its invention is J. Robert Oppenheimer.\n",
            "15: The atomic bomb was developed by a team of scientists under the Manhattan Project, led by J. Robert Oppenheimer.\n",
            "16: J. Robert Oppenheimer and his team during the Manhattan Project.\n",
            "17: The atomic bomb was developed by a team of scientists during the Manhattan Project, a research initiative led by the United States during World War II. The lead scientist was J. Robert Oppenheimer.\n",
            "18: The atomic bomb was developed by the Manhattan Project during World War II, a team led by J. Robert Oppenheimer.\n",
            "19: A team of scientists during the Manhattan Project invented the atomic bomb, but the key figure is often recognized as J. Robert Oppenheimer.\n",
            "20: The atomic bomb was developed by a team of scientists under the Manhattan Project, led by J. Robert Oppenheimer.\n",
            "\n",
            "Answer Frequencies:\n",
            "'A team of scientists during the Manhattan Project invented the atomic bomb. The team was led by J. Robert Oppenheimer.': 1\n",
            "'The atomic bomb was developed by a team of scientists during the Manhattan Project, which was a research project during World War II that was led by the United States with the support of the United Kingdom and Canada. The project director was Major General Leslie Groves of the U.S. Army Corps of Engineers. Nuclear physicist Robert Oppenheimer was the director of the Los Alamos National Laboratory that designed the actual bomb.': 1\n",
            "'J. Robert Oppenheimer and his team at the Manhattan Project.': 1\n",
            "'The atomic bomb was developed during World War II by the Manhattan Project, a research team which included scientists such as Robert Oppenheimer, Enrico Fermi, and Richard Feynman. However, Robert Oppenheimer is often referred to as the \"father of the atomic bomb\".': 1\n",
            "'The atomic bomb was developed by a team of scientists under the Manhattan Project, led by J. Robert Oppenheimer.': 4\n",
            "\"The atomic bomb was developed by a team of scientists during the Manhattan Project, a research project during World War II that was led by the United States with the support of the United Kingdom and Canada. The key figures included Robert Oppenheimer, who was the director of the Los Alamos Laboratory where the bomb was designed, and Enrico Fermi, who created the world's first nuclear reactor.\": 1\n",
            "'The atomic bomb was developed by a team of scientists under the leadership of J. Robert Oppenheimer as part of the Manhattan Project during World War II.': 1\n",
            "'The atomic bomb was developed by a team of scientists under the Manhattan Project, which was led by J. Robert Oppenheimer.': 1\n",
            "'The atomic bomb was developed by a team of scientists during World War II as part of the Manhattan Project. While many individuals contributed, physicist J. Robert Oppenheimer is often called the \"father of the atomic bomb\" for his role overseeing its development.': 1\n",
            "\"The atomic bomb was developed by a team of scientists during the Manhattan Project, a research project launched by the United States during World War II. Key figures included Robert Oppenheimer, who was the project's lead scientist.\": 1\n",
            "'The atomic bomb was developed by a team of scientists during the Manhattan Project, a research effort during World War II. The project was led by the United States with the support of the United Kingdom and Canada. Key figures include J. Robert Oppenheimer, who is often called the \"father of the atomic bomb.\"': 1\n",
            "'The atomic bomb was developed by a team of scientists under the code name \"Manhattan Project\" during World War II. The key figures included J. Robert Oppenheimer, who is often called the \"father of the atomic bomb\".': 1\n",
            "'The atomic bomb was invented by a group of scientists working on the Manhattan Project, but the key figure often associated with its invention is J. Robert Oppenheimer.': 1\n",
            "'J. Robert Oppenheimer and his team during the Manhattan Project.': 1\n",
            "'The atomic bomb was developed by a team of scientists during the Manhattan Project, a research initiative led by the United States during World War II. The lead scientist was J. Robert Oppenheimer.': 1\n",
            "'The atomic bomb was developed by the Manhattan Project during World War II, a team led by J. Robert Oppenheimer.': 1\n",
            "'A team of scientists during the Manhattan Project invented the atomic bomb, but the key figure is often recognized as J. Robert Oppenheimer.': 1\n",
            "\n",
            "Final Answer (Majority Vote):\n",
            "The atomic bomb was developed by a team of scientists under the Manhattan Project, led by J. Robert Oppenheimer.\n"
          ]
        },
        {
          "output_type": "execute_result",
          "data": {
            "text/plain": [
              "'The atomic bomb was developed by a team of scientists under the Manhattan Project, led by J. Robert Oppenheimer.'"
            ],
            "application/vnd.google.colaboratory.intrinsic+json": {
              "type": "string"
            }
          },
          "metadata": {},
          "execution_count": 7
        }
      ]
    },
    {
      "cell_type": "code",
      "source": [],
      "metadata": {
        "id": "IlViZVSIXPHU"
      },
      "execution_count": 7,
      "outputs": []
    }
  ]
}