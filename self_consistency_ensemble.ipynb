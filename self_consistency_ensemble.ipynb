{
  "nbformat": 4,
  "nbformat_minor": 0,
  "metadata": {
    "colab": {
      "provenance": [],
      "authorship_tag": "ABX9TyPZj/uqloFhQry+b9CyAkjA",
      "include_colab_link": true
    },
    "kernelspec": {
      "name": "python3",
      "display_name": "Python 3"
    },
    "language_info": {
      "name": "python"
    }
  },
  "cells": [
    {
      "cell_type": "markdown",
      "metadata": {
        "id": "view-in-github",
        "colab_type": "text"
      },
      "source": [
        "<a href=\"https://colab.research.google.com/github/JayTiptown/self-consistency-ensemble/blob/main/self_consistency_ensemble.ipynb\" target=\"_parent\"><img src=\"https://colab.research.google.com/assets/colab-badge.svg\" alt=\"Open In Colab\"/></a>"
      ]
    },
    {
      "cell_type": "code",
      "execution_count": null,
      "metadata": {
        "id": "dEFig8ikVHu7"
      },
      "outputs": [],
      "source": [
        "# imports\n",
        "\n",
        "import asyncio\n",
        "import random\n",
        "from collections import defaultdict\n",
        "import nest_asyncio\n",
        "nest_asyncio.apply()  # Needed to run asyncio in Colab\n",
        "import numpy as np\n",
        "import matplotlib.pyplot as plt\n",
        "from matplotlib.animation import FuncAnimation\n",
        "import pandas as pd\n",
        "from google.colab import userdata"
      ]
    },
    {
      "cell_type": "code",
      "source": [
        "# model import\n",
        "\n",
        "!pip install openai\n",
        "!pip install anthropic\n",
        "!pip install google-genai\n",
        "\n",
        "import openai\n",
        "import anthropic\n",
        "import google.genai\n",
        "\n",
        "openai.api_key = userdata.get(\"OPENAI_API_KEY\")\n",
        "anthropic.api_key = userdata.get(\"ANTHROPIC_API_KEY\")\n",
        "google.genai.api_key = userdata.get(\"GEMINI_API_KEY\")"
      ],
      "metadata": {
        "colab": {
          "base_uri": "https://localhost:8080/"
        },
        "collapsed": true,
        "id": "eUZQyuheV2vV",
        "outputId": "7433735a-8ea6-4484-b1a1-6d4dc00f5479"
      },
      "execution_count": null,
      "outputs": [
        {
          "output_type": "stream",
          "name": "stdout",
          "text": [
            "Requirement already satisfied: openai in /usr/local/lib/python3.11/dist-packages (1.76.0)\n",
            "Requirement already satisfied: anyio<5,>=3.5.0 in /usr/local/lib/python3.11/dist-packages (from openai) (4.9.0)\n",
            "Requirement already satisfied: distro<2,>=1.7.0 in /usr/local/lib/python3.11/dist-packages (from openai) (1.9.0)\n",
            "Requirement already satisfied: httpx<1,>=0.23.0 in /usr/local/lib/python3.11/dist-packages (from openai) (0.28.1)\n",
            "Requirement already satisfied: jiter<1,>=0.4.0 in /usr/local/lib/python3.11/dist-packages (from openai) (0.9.0)\n",
            "Requirement already satisfied: pydantic<3,>=1.9.0 in /usr/local/lib/python3.11/dist-packages (from openai) (2.11.3)\n",
            "Requirement already satisfied: sniffio in /usr/local/lib/python3.11/dist-packages (from openai) (1.3.1)\n",
            "Requirement already satisfied: tqdm>4 in /usr/local/lib/python3.11/dist-packages (from openai) (4.67.1)\n",
            "Requirement already satisfied: typing-extensions<5,>=4.11 in /usr/local/lib/python3.11/dist-packages (from openai) (4.13.2)\n",
            "Requirement already satisfied: idna>=2.8 in /usr/local/lib/python3.11/dist-packages (from anyio<5,>=3.5.0->openai) (3.10)\n",
            "Requirement already satisfied: certifi in /usr/local/lib/python3.11/dist-packages (from httpx<1,>=0.23.0->openai) (2025.1.31)\n",
            "Requirement already satisfied: httpcore==1.* in /usr/local/lib/python3.11/dist-packages (from httpx<1,>=0.23.0->openai) (1.0.9)\n",
            "Requirement already satisfied: h11>=0.16 in /usr/local/lib/python3.11/dist-packages (from httpcore==1.*->httpx<1,>=0.23.0->openai) (0.16.0)\n",
            "Requirement already satisfied: annotated-types>=0.6.0 in /usr/local/lib/python3.11/dist-packages (from pydantic<3,>=1.9.0->openai) (0.7.0)\n",
            "Requirement already satisfied: pydantic-core==2.33.1 in /usr/local/lib/python3.11/dist-packages (from pydantic<3,>=1.9.0->openai) (2.33.1)\n",
            "Requirement already satisfied: typing-inspection>=0.4.0 in /usr/local/lib/python3.11/dist-packages (from pydantic<3,>=1.9.0->openai) (0.4.0)\n",
            "Requirement already satisfied: anthropic in /usr/local/lib/python3.11/dist-packages (0.50.0)\n",
            "Requirement already satisfied: anyio<5,>=3.5.0 in /usr/local/lib/python3.11/dist-packages (from anthropic) (4.9.0)\n",
            "Requirement already satisfied: distro<2,>=1.7.0 in /usr/local/lib/python3.11/dist-packages (from anthropic) (1.9.0)\n",
            "Requirement already satisfied: httpx<1,>=0.25.0 in /usr/local/lib/python3.11/dist-packages (from anthropic) (0.28.1)\n",
            "Requirement already satisfied: jiter<1,>=0.4.0 in /usr/local/lib/python3.11/dist-packages (from anthropic) (0.9.0)\n",
            "Requirement already satisfied: pydantic<3,>=1.9.0 in /usr/local/lib/python3.11/dist-packages (from anthropic) (2.11.3)\n",
            "Requirement already satisfied: sniffio in /usr/local/lib/python3.11/dist-packages (from anthropic) (1.3.1)\n",
            "Requirement already satisfied: typing-extensions<5,>=4.10 in /usr/local/lib/python3.11/dist-packages (from anthropic) (4.13.2)\n",
            "Requirement already satisfied: idna>=2.8 in /usr/local/lib/python3.11/dist-packages (from anyio<5,>=3.5.0->anthropic) (3.10)\n",
            "Requirement already satisfied: certifi in /usr/local/lib/python3.11/dist-packages (from httpx<1,>=0.25.0->anthropic) (2025.1.31)\n",
            "Requirement already satisfied: httpcore==1.* in /usr/local/lib/python3.11/dist-packages (from httpx<1,>=0.25.0->anthropic) (1.0.9)\n",
            "Requirement already satisfied: h11>=0.16 in /usr/local/lib/python3.11/dist-packages (from httpcore==1.*->httpx<1,>=0.25.0->anthropic) (0.16.0)\n",
            "Requirement already satisfied: annotated-types>=0.6.0 in /usr/local/lib/python3.11/dist-packages (from pydantic<3,>=1.9.0->anthropic) (0.7.0)\n",
            "Requirement already satisfied: pydantic-core==2.33.1 in /usr/local/lib/python3.11/dist-packages (from pydantic<3,>=1.9.0->anthropic) (2.33.1)\n",
            "Requirement already satisfied: typing-inspection>=0.4.0 in /usr/local/lib/python3.11/dist-packages (from pydantic<3,>=1.9.0->anthropic) (0.4.0)\n",
            "Requirement already satisfied: google-genai in /usr/local/lib/python3.11/dist-packages (1.12.1)\n",
            "Requirement already satisfied: anyio<5.0.0,>=4.8.0 in /usr/local/lib/python3.11/dist-packages (from google-genai) (4.9.0)\n",
            "Requirement already satisfied: google-auth<3.0.0,>=2.14.1 in /usr/local/lib/python3.11/dist-packages (from google-genai) (2.38.0)\n",
            "Requirement already satisfied: httpx<1.0.0,>=0.28.1 in /usr/local/lib/python3.11/dist-packages (from google-genai) (0.28.1)\n",
            "Requirement already satisfied: pydantic<3.0.0,>=2.0.0 in /usr/local/lib/python3.11/dist-packages (from google-genai) (2.11.3)\n",
            "Requirement already satisfied: requests<3.0.0,>=2.28.1 in /usr/local/lib/python3.11/dist-packages (from google-genai) (2.32.3)\n",
            "Requirement already satisfied: websockets<15.1.0,>=13.0.0 in /usr/local/lib/python3.11/dist-packages (from google-genai) (15.0.1)\n",
            "Requirement already satisfied: typing-extensions<5.0.0,>=4.11.0 in /usr/local/lib/python3.11/dist-packages (from google-genai) (4.13.2)\n",
            "Requirement already satisfied: idna>=2.8 in /usr/local/lib/python3.11/dist-packages (from anyio<5.0.0,>=4.8.0->google-genai) (3.10)\n",
            "Requirement already satisfied: sniffio>=1.1 in /usr/local/lib/python3.11/dist-packages (from anyio<5.0.0,>=4.8.0->google-genai) (1.3.1)\n",
            "Requirement already satisfied: cachetools<6.0,>=2.0.0 in /usr/local/lib/python3.11/dist-packages (from google-auth<3.0.0,>=2.14.1->google-genai) (5.5.2)\n",
            "Requirement already satisfied: pyasn1-modules>=0.2.1 in /usr/local/lib/python3.11/dist-packages (from google-auth<3.0.0,>=2.14.1->google-genai) (0.4.2)\n",
            "Requirement already satisfied: rsa<5,>=3.1.4 in /usr/local/lib/python3.11/dist-packages (from google-auth<3.0.0,>=2.14.1->google-genai) (4.9.1)\n",
            "Requirement already satisfied: certifi in /usr/local/lib/python3.11/dist-packages (from httpx<1.0.0,>=0.28.1->google-genai) (2025.1.31)\n",
            "Requirement already satisfied: httpcore==1.* in /usr/local/lib/python3.11/dist-packages (from httpx<1.0.0,>=0.28.1->google-genai) (1.0.9)\n",
            "Requirement already satisfied: h11>=0.16 in /usr/local/lib/python3.11/dist-packages (from httpcore==1.*->httpx<1.0.0,>=0.28.1->google-genai) (0.16.0)\n",
            "Requirement already satisfied: annotated-types>=0.6.0 in /usr/local/lib/python3.11/dist-packages (from pydantic<3.0.0,>=2.0.0->google-genai) (0.7.0)\n",
            "Requirement already satisfied: pydantic-core==2.33.1 in /usr/local/lib/python3.11/dist-packages (from pydantic<3.0.0,>=2.0.0->google-genai) (2.33.1)\n",
            "Requirement already satisfied: typing-inspection>=0.4.0 in /usr/local/lib/python3.11/dist-packages (from pydantic<3.0.0,>=2.0.0->google-genai) (0.4.0)\n",
            "Requirement already satisfied: charset-normalizer<4,>=2 in /usr/local/lib/python3.11/dist-packages (from requests<3.0.0,>=2.28.1->google-genai) (3.4.1)\n",
            "Requirement already satisfied: urllib3<3,>=1.21.1 in /usr/local/lib/python3.11/dist-packages (from requests<3.0.0,>=2.28.1->google-genai) (2.4.0)\n",
            "Requirement already satisfied: pyasn1<0.7.0,>=0.6.1 in /usr/local/lib/python3.11/dist-packages (from pyasn1-modules>=0.2.1->google-auth<3.0.0,>=2.14.1->google-genai) (0.6.1)\n"
          ]
        }
      ]
    },
    {
      "cell_type": "code",
      "source": [
        "# simulated chain of thought sample\n",
        "\n",
        "async def sample_chain(prompt, model_spec):\n",
        "\n",
        "  provider, model = model_spec\n",
        "\n",
        "  full_prompt = prompt + \"\\nLet's think step by step.\"\n",
        "\n",
        "  if provider == 'openai':\n",
        "\n",
        "    # Run the blocking call in a thread so we don't block asyncio\n",
        "    # Use openai.chat.completions.create for chat models like gpt-4\n",
        "    response = await asyncio.to_thread(\n",
        "        openai.chat.completions.create,  # Changed to chat.completions.create\n",
        "        model=\"gpt-4\",     # or any completions model\n",
        "        messages=[{\"role\": \"user\", \"content\": full_prompt}],  # Added messages parameter\n",
        "        temperature=0.7,\n",
        "        max_tokens=150,\n",
        "        # logprobs=1\n",
        "    )\n",
        "\n",
        "    choice = response.choices[0]\n",
        "    trace = choice.message.content  # Access content from message\n",
        "    # crude extraction: last line is the answer\n",
        "    answer = trace.strip().split(\"\\n\")[-1]\n",
        "\n",
        "    # logprobs is not supported in chat completions as of now\n",
        "    # token_lps = choice.logprobs.token_logprobs or []\n",
        "    # total_logprob = sum(token_lps)\n",
        "\n",
        "  # fill these out for relevant providers\n",
        "\n",
        "  elif provider == 'anthropic':\n",
        "    pass\n",
        "  elif provider == 'gemini':\n",
        "    pass\n",
        "  else:\n",
        "    raise ValueError(f\"Unknown provider: {provider}\")\n",
        "\n",
        "  total_logprob = 0 # Placeholder logprobs isn't directly supported for chat models.\n",
        "  return answer, total_logprob"
      ],
      "metadata": {
        "id": "ihbTqq96VcGa"
      },
      "execution_count": null,
      "outputs": []
    },
    {
      "cell_type": "code",
      "source": [
        "# adaptive controller\n",
        "def controller(prompt, max_budget=5):\n",
        "  \"\"\"\n",
        "  Enforce a fixed sampling budget.\n",
        "  \"\"\"\n",
        "  return max_budget"
      ],
      "metadata": {
        "id": "yJDVd6pZVmXt"
      },
      "execution_count": null,
      "outputs": []
    },
    {
      "cell_type": "code",
      "source": [
        "# parallel orchestrator\n",
        "\n",
        "async def orchestrate_samples(prompt, budget, model_spec):\n",
        "  tasks = [\n",
        "    asyncio.create_task(sample_chain(prompt, model_spec))\n",
        "    for _ in range(budget)\n",
        "  ]\n",
        "  return await asyncio.gather(*tasks)"
      ],
      "metadata": {
        "id": "VLx5N00LVof8"
      },
      "execution_count": null,
      "outputs": []
    },
    {
      "cell_type": "code",
      "source": [
        "# aggregator\n",
        "\n",
        "def aggregate_votes(samples):\n",
        "  \"\"\"\n",
        "  samples: list of (answer_str, log_prob_float)\n",
        "  Returns the answer with highest total log_prob.\n",
        "  \"\"\"\n",
        "  score_dict = defaultdict(float)\n",
        "  for answer, log_prob in samples:\n",
        "      score_dict[answer] += log_prob\n",
        "  winner = max(score_dict.items(), key=lambda x: x[1])[0]\n",
        "  return winner, dict(score_dict)"
      ],
      "metadata": {
        "id": "so7yjA2WVtgP"
      },
      "execution_count": null,
      "outputs": []
    },
    {
      "cell_type": "code",
      "source": [
        "# self-consistency run\n",
        "\n",
        "def run_self_consistency(prompt, model_spec, max_budget):\n",
        "  budget = controller(prompt, max_budget)\n",
        "  samples = asyncio.run(orchestrate_samples(prompt, budget, model_spec))\n",
        "  winner, scores = aggregate_votes(samples)\n",
        "  print(f\"Prompt: {prompt}\")\n",
        "  print(f\"Samples and log_probs: {samples}\")\n",
        "  print(f\"Aggregated scores: {scores}\")\n",
        "  print(f\"Winner: {winner}\")\n",
        "  return winner, scores\n",
        "\n",
        "run_self_consistency(\"Who invented the atomic bomb?\", max_budget=20)"
      ],
      "metadata": {
        "colab": {
          "base_uri": "https://localhost:8080/"
        },
        "id": "ngsP-tFIVv6H",
        "outputId": "b225baa4-b8de-4080-cca5-6981ee5fbbc1"
      },
      "execution_count": null,
      "outputs": [
        {
          "output_type": "stream",
          "name": "stdout",
          "text": [
            "Prompt: Who invented the atomic bomb?\n",
            "Samples and log_probs: [('3. The actual creation of the atomic bomb was the result of the Manhattan Project, a U.S. government research project during World War II. The project was', 0), ('4. The work on atomic bomb started with the discovery of nuclear fission by German scientists Otto Hahn and Fritz Strassmann in 1938, and its theoretical explanation by Lise Meitner and Otto Fr', 0), ('4', 0), ('4. This led to the establishment of the Manhattan Project, a secret U', 0), ('4. The actual development of the atomic bomb', 0), ('So, it can be said', 0), ('So, while Oppenheimer played a leading role in the physical invention of the atomic bomb', 0), ('4. Therefore, while many people', 0), ('4. In summary, while it was a group effort, J. Robert Oppenheimer is often credited as the \"father of the atomic bomb\" due to his role as the director of', 0), ('6. The first successful test of the atomic bomb, codenamed \"Trinity\", was conducted on July 16', 0), ('4. The Manhattan Project was led by General Leslie Groves of the U.S. Army Corps of Engineers. Physicist J. Robert Oppenheimer was', 0), (\"So, it wouldn't\", 0), ('3. The discovery of nuclear fission was the next crucial step. This is the process by which the nucleus of an atom splits into', 0), ('The Manhattan Project spanned from 1939 to 1946, culminating in the successful testing of', 0), ('5. However, the actual development and creation of the first atomic bomb was carried out during World War II by the United States in a secret project known as the', 0), ('6. However, it was Opp', 0), ('4. Albert Einstein - Although not directly involved in the', 0), ('   - Edward Teller: He contributed to the first designs', 0), ('3. The idea of atomic bomb was further pursued after Albert Einstein, a renowned physicist, wrote a letter to President Franklin D. Roosevelt in 1939. In the letter, co-signed by Hungarian physicist Leo Szilard, they warned of the possibility of', 0), ('3. The actual development of the atomic bomb was carried out under the Manhattan Project, a research and development project during World War II that was funded by the United States government and involved scientists from the U.S., the United Kingdom, and Canada.', 0)]\n",
            "Aggregated scores: {'3. The actual creation of the atomic bomb was the result of the Manhattan Project, a U.S. government research project during World War II. The project was': 0.0, '4. The work on atomic bomb started with the discovery of nuclear fission by German scientists Otto Hahn and Fritz Strassmann in 1938, and its theoretical explanation by Lise Meitner and Otto Fr': 0.0, '4': 0.0, '4. This led to the establishment of the Manhattan Project, a secret U': 0.0, '4. The actual development of the atomic bomb': 0.0, 'So, it can be said': 0.0, 'So, while Oppenheimer played a leading role in the physical invention of the atomic bomb': 0.0, '4. Therefore, while many people': 0.0, '4. In summary, while it was a group effort, J. Robert Oppenheimer is often credited as the \"father of the atomic bomb\" due to his role as the director of': 0.0, '6. The first successful test of the atomic bomb, codenamed \"Trinity\", was conducted on July 16': 0.0, '4. The Manhattan Project was led by General Leslie Groves of the U.S. Army Corps of Engineers. Physicist J. Robert Oppenheimer was': 0.0, \"So, it wouldn't\": 0.0, '3. The discovery of nuclear fission was the next crucial step. This is the process by which the nucleus of an atom splits into': 0.0, 'The Manhattan Project spanned from 1939 to 1946, culminating in the successful testing of': 0.0, '5. However, the actual development and creation of the first atomic bomb was carried out during World War II by the United States in a secret project known as the': 0.0, '6. However, it was Opp': 0.0, '4. Albert Einstein - Although not directly involved in the': 0.0, '   - Edward Teller: He contributed to the first designs': 0.0, '3. The idea of atomic bomb was further pursued after Albert Einstein, a renowned physicist, wrote a letter to President Franklin D. Roosevelt in 1939. In the letter, co-signed by Hungarian physicist Leo Szilard, they warned of the possibility of': 0.0, '3. The actual development of the atomic bomb was carried out under the Manhattan Project, a research and development project during World War II that was funded by the United States government and involved scientists from the U.S., the United Kingdom, and Canada.': 0.0}\n",
            "Winner: 3. The actual creation of the atomic bomb was the result of the Manhattan Project, a U.S. government research project during World War II. The project was\n"
          ]
        },
        {
          "output_type": "execute_result",
          "data": {
            "text/plain": [
              "('3. The actual creation of the atomic bomb was the result of the Manhattan Project, a U.S. government research project during World War II. The project was',\n",
              " {'3. The actual creation of the atomic bomb was the result of the Manhattan Project, a U.S. government research project during World War II. The project was': 0.0,\n",
              "  '4. The work on atomic bomb started with the discovery of nuclear fission by German scientists Otto Hahn and Fritz Strassmann in 1938, and its theoretical explanation by Lise Meitner and Otto Fr': 0.0,\n",
              "  '4': 0.0,\n",
              "  '4. This led to the establishment of the Manhattan Project, a secret U': 0.0,\n",
              "  '4. The actual development of the atomic bomb': 0.0,\n",
              "  'So, it can be said': 0.0,\n",
              "  'So, while Oppenheimer played a leading role in the physical invention of the atomic bomb': 0.0,\n",
              "  '4. Therefore, while many people': 0.0,\n",
              "  '4. In summary, while it was a group effort, J. Robert Oppenheimer is often credited as the \"father of the atomic bomb\" due to his role as the director of': 0.0,\n",
              "  '6. The first successful test of the atomic bomb, codenamed \"Trinity\", was conducted on July 16': 0.0,\n",
              "  '4. The Manhattan Project was led by General Leslie Groves of the U.S. Army Corps of Engineers. Physicist J. Robert Oppenheimer was': 0.0,\n",
              "  \"So, it wouldn't\": 0.0,\n",
              "  '3. The discovery of nuclear fission was the next crucial step. This is the process by which the nucleus of an atom splits into': 0.0,\n",
              "  'The Manhattan Project spanned from 1939 to 1946, culminating in the successful testing of': 0.0,\n",
              "  '5. However, the actual development and creation of the first atomic bomb was carried out during World War II by the United States in a secret project known as the': 0.0,\n",
              "  '6. However, it was Opp': 0.0,\n",
              "  '4. Albert Einstein - Although not directly involved in the': 0.0,\n",
              "  '   - Edward Teller: He contributed to the first designs': 0.0,\n",
              "  '3. The idea of atomic bomb was further pursued after Albert Einstein, a renowned physicist, wrote a letter to President Franklin D. Roosevelt in 1939. In the letter, co-signed by Hungarian physicist Leo Szilard, they warned of the possibility of': 0.0,\n",
              "  '3. The actual development of the atomic bomb was carried out under the Manhattan Project, a research and development project during World War II that was funded by the United States government and involved scientists from the U.S., the United Kingdom, and Canada.': 0.0})"
            ]
          },
          "metadata": {},
          "execution_count": 51
        }
      ]
    },
    {
      "cell_type": "code",
      "source": [],
      "metadata": {
        "id": "IlViZVSIXPHU"
      },
      "execution_count": null,
      "outputs": []
    }
  ]
}