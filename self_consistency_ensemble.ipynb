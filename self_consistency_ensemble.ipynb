{
  "nbformat": 4,
  "nbformat_minor": 0,
  "metadata": {
    "colab": {
      "provenance": [],
      "include_colab_link": true
    },
    "kernelspec": {
      "name": "python3",
      "display_name": "Python 3"
    },
    "language_info": {
      "name": "python"
    }
  },
  "cells": [
    {
      "cell_type": "markdown",
      "metadata": {
        "id": "view-in-github",
        "colab_type": "text"
      },
      "source": [
        "<a href=\"https://colab.research.google.com/github/JayTiptown/self-consistency-ensemble/blob/self-consistency/self_consistency_ensemble.ipynb\" target=\"_parent\"><img src=\"https://colab.research.google.com/assets/colab-badge.svg\" alt=\"Open In Colab\"/></a>"
      ]
    },
    {
      "cell_type": "code",
      "execution_count": 1,
      "metadata": {
        "id": "dEFig8ikVHu7"
      },
      "outputs": [],
      "source": [
        "# imports\n",
        "\n",
        "import asyncio\n",
        "import random\n",
        "from collections import defaultdict\n",
        "import nest_asyncio\n",
        "nest_asyncio.apply()  # Needed to run asyncio in Colab\n",
        "import numpy as np\n",
        "import matplotlib.pyplot as plt\n",
        "from matplotlib.animation import FuncAnimation\n",
        "import pandas as pd\n",
        "from google.colab import userdata"
      ]
    },
    {
      "cell_type": "code",
      "source": [
        "# model import\n",
        "\n",
        "!pip install openai\n",
        "!pip install anthropic\n",
        "!pip install google-genai\n",
        "\n",
        "import openai\n",
        "import anthropic\n",
        "import google.genai\n",
        "\n",
        "openai.api_key = userdata.get(\"OPENAI_API_KEY\")\n",
        "anthropic.api_key = userdata.get(\"ANTHROPIC_API_KEY\")\n",
        "# google.genai.api_key = userdata.get(\"GEMINI_API_KEY\")"
      ],
      "metadata": {
        "colab": {
          "base_uri": "https://localhost:8080/"
        },
        "collapsed": true,
        "id": "eUZQyuheV2vV",
        "outputId": "41414052-6bff-4127-fe7d-00662c2e369d"
      },
      "execution_count": 3,
      "outputs": [
        {
          "output_type": "stream",
          "name": "stdout",
          "text": [
            "Requirement already satisfied: openai in /usr/local/lib/python3.11/dist-packages (1.77.0)\n",
            "Requirement already satisfied: anyio<5,>=3.5.0 in /usr/local/lib/python3.11/dist-packages (from openai) (4.9.0)\n",
            "Requirement already satisfied: distro<2,>=1.7.0 in /usr/local/lib/python3.11/dist-packages (from openai) (1.9.0)\n",
            "Requirement already satisfied: httpx<1,>=0.23.0 in /usr/local/lib/python3.11/dist-packages (from openai) (0.28.1)\n",
            "Requirement already satisfied: jiter<1,>=0.4.0 in /usr/local/lib/python3.11/dist-packages (from openai) (0.9.0)\n",
            "Requirement already satisfied: pydantic<3,>=1.9.0 in /usr/local/lib/python3.11/dist-packages (from openai) (2.11.4)\n",
            "Requirement already satisfied: sniffio in /usr/local/lib/python3.11/dist-packages (from openai) (1.3.1)\n",
            "Requirement already satisfied: tqdm>4 in /usr/local/lib/python3.11/dist-packages (from openai) (4.67.1)\n",
            "Requirement already satisfied: typing-extensions<5,>=4.11 in /usr/local/lib/python3.11/dist-packages (from openai) (4.13.2)\n",
            "Requirement already satisfied: idna>=2.8 in /usr/local/lib/python3.11/dist-packages (from anyio<5,>=3.5.0->openai) (3.10)\n",
            "Requirement already satisfied: certifi in /usr/local/lib/python3.11/dist-packages (from httpx<1,>=0.23.0->openai) (2025.4.26)\n",
            "Requirement already satisfied: httpcore==1.* in /usr/local/lib/python3.11/dist-packages (from httpx<1,>=0.23.0->openai) (1.0.9)\n",
            "Requirement already satisfied: h11>=0.16 in /usr/local/lib/python3.11/dist-packages (from httpcore==1.*->httpx<1,>=0.23.0->openai) (0.16.0)\n",
            "Requirement already satisfied: annotated-types>=0.6.0 in /usr/local/lib/python3.11/dist-packages (from pydantic<3,>=1.9.0->openai) (0.7.0)\n",
            "Requirement already satisfied: pydantic-core==2.33.2 in /usr/local/lib/python3.11/dist-packages (from pydantic<3,>=1.9.0->openai) (2.33.2)\n",
            "Requirement already satisfied: typing-inspection>=0.4.0 in /usr/local/lib/python3.11/dist-packages (from pydantic<3,>=1.9.0->openai) (0.4.0)\n",
            "Requirement already satisfied: anthropic in /usr/local/lib/python3.11/dist-packages (0.51.0)\n",
            "Requirement already satisfied: anyio<5,>=3.5.0 in /usr/local/lib/python3.11/dist-packages (from anthropic) (4.9.0)\n",
            "Requirement already satisfied: distro<2,>=1.7.0 in /usr/local/lib/python3.11/dist-packages (from anthropic) (1.9.0)\n",
            "Requirement already satisfied: httpx<1,>=0.25.0 in /usr/local/lib/python3.11/dist-packages (from anthropic) (0.28.1)\n",
            "Requirement already satisfied: jiter<1,>=0.4.0 in /usr/local/lib/python3.11/dist-packages (from anthropic) (0.9.0)\n",
            "Requirement already satisfied: pydantic<3,>=1.9.0 in /usr/local/lib/python3.11/dist-packages (from anthropic) (2.11.4)\n",
            "Requirement already satisfied: sniffio in /usr/local/lib/python3.11/dist-packages (from anthropic) (1.3.1)\n",
            "Requirement already satisfied: typing-extensions<5,>=4.10 in /usr/local/lib/python3.11/dist-packages (from anthropic) (4.13.2)\n",
            "Requirement already satisfied: idna>=2.8 in /usr/local/lib/python3.11/dist-packages (from anyio<5,>=3.5.0->anthropic) (3.10)\n",
            "Requirement already satisfied: certifi in /usr/local/lib/python3.11/dist-packages (from httpx<1,>=0.25.0->anthropic) (2025.4.26)\n",
            "Requirement already satisfied: httpcore==1.* in /usr/local/lib/python3.11/dist-packages (from httpx<1,>=0.25.0->anthropic) (1.0.9)\n",
            "Requirement already satisfied: h11>=0.16 in /usr/local/lib/python3.11/dist-packages (from httpcore==1.*->httpx<1,>=0.25.0->anthropic) (0.16.0)\n",
            "Requirement already satisfied: annotated-types>=0.6.0 in /usr/local/lib/python3.11/dist-packages (from pydantic<3,>=1.9.0->anthropic) (0.7.0)\n",
            "Requirement already satisfied: pydantic-core==2.33.2 in /usr/local/lib/python3.11/dist-packages (from pydantic<3,>=1.9.0->anthropic) (2.33.2)\n",
            "Requirement already satisfied: typing-inspection>=0.4.0 in /usr/local/lib/python3.11/dist-packages (from pydantic<3,>=1.9.0->anthropic) (0.4.0)\n",
            "Requirement already satisfied: google-genai in /usr/local/lib/python3.11/dist-packages (1.14.0)\n",
            "Requirement already satisfied: anyio<5.0.0,>=4.8.0 in /usr/local/lib/python3.11/dist-packages (from google-genai) (4.9.0)\n",
            "Requirement already satisfied: google-auth<3.0.0,>=2.14.1 in /usr/local/lib/python3.11/dist-packages (from google-genai) (2.38.0)\n",
            "Requirement already satisfied: httpx<1.0.0,>=0.28.1 in /usr/local/lib/python3.11/dist-packages (from google-genai) (0.28.1)\n",
            "Requirement already satisfied: pydantic<3.0.0,>=2.0.0 in /usr/local/lib/python3.11/dist-packages (from google-genai) (2.11.4)\n",
            "Requirement already satisfied: requests<3.0.0,>=2.28.1 in /usr/local/lib/python3.11/dist-packages (from google-genai) (2.32.3)\n",
            "Requirement already satisfied: websockets<15.1.0,>=13.0.0 in /usr/local/lib/python3.11/dist-packages (from google-genai) (15.0.1)\n",
            "Requirement already satisfied: typing-extensions<5.0.0,>=4.11.0 in /usr/local/lib/python3.11/dist-packages (from google-genai) (4.13.2)\n",
            "Requirement already satisfied: idna>=2.8 in /usr/local/lib/python3.11/dist-packages (from anyio<5.0.0,>=4.8.0->google-genai) (3.10)\n",
            "Requirement already satisfied: sniffio>=1.1 in /usr/local/lib/python3.11/dist-packages (from anyio<5.0.0,>=4.8.0->google-genai) (1.3.1)\n",
            "Requirement already satisfied: cachetools<6.0,>=2.0.0 in /usr/local/lib/python3.11/dist-packages (from google-auth<3.0.0,>=2.14.1->google-genai) (5.5.2)\n",
            "Requirement already satisfied: pyasn1-modules>=0.2.1 in /usr/local/lib/python3.11/dist-packages (from google-auth<3.0.0,>=2.14.1->google-genai) (0.4.2)\n",
            "Requirement already satisfied: rsa<5,>=3.1.4 in /usr/local/lib/python3.11/dist-packages (from google-auth<3.0.0,>=2.14.1->google-genai) (4.9.1)\n",
            "Requirement already satisfied: certifi in /usr/local/lib/python3.11/dist-packages (from httpx<1.0.0,>=0.28.1->google-genai) (2025.4.26)\n",
            "Requirement already satisfied: httpcore==1.* in /usr/local/lib/python3.11/dist-packages (from httpx<1.0.0,>=0.28.1->google-genai) (1.0.9)\n",
            "Requirement already satisfied: h11>=0.16 in /usr/local/lib/python3.11/dist-packages (from httpcore==1.*->httpx<1.0.0,>=0.28.1->google-genai) (0.16.0)\n",
            "Requirement already satisfied: annotated-types>=0.6.0 in /usr/local/lib/python3.11/dist-packages (from pydantic<3.0.0,>=2.0.0->google-genai) (0.7.0)\n",
            "Requirement already satisfied: pydantic-core==2.33.2 in /usr/local/lib/python3.11/dist-packages (from pydantic<3.0.0,>=2.0.0->google-genai) (2.33.2)\n",
            "Requirement already satisfied: typing-inspection>=0.4.0 in /usr/local/lib/python3.11/dist-packages (from pydantic<3.0.0,>=2.0.0->google-genai) (0.4.0)\n",
            "Requirement already satisfied: charset-normalizer<4,>=2 in /usr/local/lib/python3.11/dist-packages (from requests<3.0.0,>=2.28.1->google-genai) (3.4.2)\n",
            "Requirement already satisfied: urllib3<3,>=1.21.1 in /usr/local/lib/python3.11/dist-packages (from requests<3.0.0,>=2.28.1->google-genai) (2.4.0)\n",
            "Requirement already satisfied: pyasn1<0.7.0,>=0.6.1 in /usr/local/lib/python3.11/dist-packages (from pyasn1-modules>=0.2.1->google-auth<3.0.0,>=2.14.1->google-genai) (0.6.1)\n"
          ]
        }
      ]
    },
    {
      "cell_type": "code",
      "source": [
        "# simulated chain of thought sample\n",
        "\n",
        "async def sample_chain(prompt, model_spec):\n",
        "\n",
        "  provider, model = model_spec\n",
        "\n",
        "  full_prompt = prompt + \"\\nLet's think step by step.\"\n",
        "\n",
        "  if provider == 'openai':\n",
        "\n",
        "    # Run the blocking call in a thread so we don't block asyncio\n",
        "    # Use openai.chat.completions.create for chat models like gpt-4\n",
        "    response = await asyncio.to_thread(\n",
        "        openai.chat.completions.create,  # Changed to chat.completions.create\n",
        "        model=\"gpt-4\",     # or any completions model\n",
        "        messages=[{\"role\": \"user\", \"content\": full_prompt}],  # Added messages parameter\n",
        "        temperature=0.7,\n",
        "        max_tokens=150,\n",
        "        # logprobs=1\n",
        "    )\n",
        "\n",
        "    choice = response.choices[0]\n",
        "    trace = choice.message.content  # Access content from message\n",
        "    # crude extraction: last line is the answer\n",
        "    # answer = trace.strip().split(\"\\n\")[-1]\n",
        "    def extract_final_answer(text):\n",
        "      lines = text.strip().splitlines()\n",
        "      for line in reversed(lines):\n",
        "          if len(line.split()) > 3 and line[-1] == '.':\n",
        "              return line.strip()\n",
        "      return lines[-1].strip() if lines else \"\"\n",
        "    answer = extract_final_answer(trace)\n",
        "\n",
        "    # logprobs is not supported in chat completions as of now\n",
        "    # token_lps = choice.logprobs.token_logprobs or []\n",
        "    # total_logprob = sum(token_lps)\n",
        "\n",
        "  # fill these out for relevant providers\n",
        "\n",
        "  elif provider == 'anthropic':\n",
        "    pass\n",
        "  elif provider == 'gemini':\n",
        "    pass\n",
        "  else:\n",
        "    raise ValueError(f\"Unknown provider: {provider}\")\n",
        "\n",
        "  total_logprob = 0 # Placeholder logprobs isn't directly supported for chat models.\n",
        "  return answer, total_logprob"
      ],
      "metadata": {
        "id": "ihbTqq96VcGa"
      },
      "execution_count": 5,
      "outputs": []
    },
    {
      "cell_type": "code",
      "source": [
        "# adaptive controller\n",
        "def controller(prompt, max_budget=5):\n",
        "  \"\"\"\n",
        "  Enforce a fixed sampling budget.\n",
        "  \"\"\"\n",
        "  return max_budget"
      ],
      "metadata": {
        "id": "yJDVd6pZVmXt"
      },
      "execution_count": 6,
      "outputs": []
    },
    {
      "cell_type": "code",
      "source": [
        "# parallel orchestrator\n",
        "\n",
        "async def orchestrate_samples(prompt, budget, model_spec):\n",
        "  tasks = [\n",
        "    asyncio.create_task(sample_chain(prompt, model_spec))\n",
        "    for _ in range(budget)\n",
        "  ]\n",
        "  return await asyncio.gather(*tasks)"
      ],
      "metadata": {
        "id": "VLx5N00LVof8"
      },
      "execution_count": 7,
      "outputs": []
    },
    {
      "cell_type": "code",
      "source": [
        "# aggregator\n",
        "\n",
        "from collections import Counter\n",
        "\n",
        "def aggregate_votes(samples):\n",
        "    \"\"\"\n",
        "    samples: list of (answer_str, log_prob_float) – ignores log_prob_float\n",
        "    Returns the answer that appears most frequently (majority vote).\n",
        "    \"\"\"\n",
        "    answers = [answer for answer, _ in samples]\n",
        "    counts = Counter(answers)\n",
        "    winner = counts.most_common(1)[0][0]\n",
        "    return winner, dict(counts)"
      ],
      "metadata": {
        "id": "so7yjA2WVtgP"
      },
      "execution_count": 8,
      "outputs": []
    },
    {
      "cell_type": "code",
      "source": [
        "# self-consistency run\n",
        "def run_self_consistency(prompt, model_spec, max_budget):\n",
        "    budget = controller(prompt, max_budget)\n",
        "    samples = asyncio.run(orchestrate_samples(prompt, budget, model_spec))\n",
        "    winner, counts = aggregate_votes(samples)\n",
        "\n",
        "    print(f\"Prompt:\\n{prompt}\\n\")\n",
        "    print(\"Sampled Answers:\")\n",
        "    for i, (answer, _) in enumerate(samples, 1):\n",
        "        print(f\"{i}: {answer}\")\n",
        "\n",
        "    print(\"\\nAnswer Frequencies:\")\n",
        "    for ans, count in counts.items():\n",
        "        print(f\"{repr(ans)}: {count}\")\n",
        "\n",
        "    print(f\"\\nFinal Answer (Majority Vote):\\n{winner}\")\n",
        "    return winner\n",
        "\n",
        "# Example usage\n",
        "model_spec = ('openai', 'gpt-4')\n",
        "run_self_consistency(\"Who invented the atomic bomb?\", model_spec, max_budget=20)"
      ],
      "metadata": {
        "colab": {
          "base_uri": "https://localhost:8080/",
          "height": 948
        },
        "id": "ngsP-tFIVv6H",
        "outputId": "0194f0c3-856a-412b-9ff1-07fc8c7802ff"
      },
      "execution_count": 9,
      "outputs": [
        {
          "output_type": "stream",
          "name": "stdout",
          "text": [
            "Prompt:\n",
            "Who invented the atomic bomb?\n",
            "\n",
            "Sampled Answers:\n",
            "1: 3. However, the atomic bomb, as we know it, was developed as part of the Manhattan Project during World War II in the United States.\n",
            "2: 3. The idea of using nuclear fission as a weapon was first proposed by Leo Szilard, a Hungarian-American physicist. He patented the concept of a nuclear chain reaction in 1933.\n",
            "3: 5. The project resulted in the production of two types of atomic bombs - \"Little Boy\", a uranium weapon, and \"Fat Man\", a plutonium weapon.\n",
            "4: 3. However, the actual development of the atomic bomb was not the work of a single individual, but a collaborative effort by several scientists. This effort was carried out under the Manhattan Project, a U.S. government research project that started in 1939.\n",
            "5: 4. Among these scientists, the most notable were Enrico Fermi, J. Robert Oppenheimer, and Albert Einstein.\n",
            "6: 4. The project was led by physicist J. Robert Oppenheimer. Several other prominent scientists were also involved, including Enrico Fermi, Richard Feynman, and Niels Bohr.\n",
            "7: 4. The theoretical explanation of this phenomenon was provided by Lise Meitner and Otto Frisch.\n",
            "8: 3. The project was led by physicist J. Robert Oppenheimer, and involved many top scientists, including Enrico Fermi and Leo Szilard.\n",
            "9: 3. However, the practical development and creation of the atomic bomb was a massive collective effort known as the Manhattan Project, taking place during World War II. This project was led by the United States with support from the United Kingdom and Canada.\n",
            "10: 3. Albert Einstein, aware of the potential for nuclear fission, wrote a letter to President Franklin D. Roosevelt in 1939 warning him of the potential for a powerful bomb. This led to the creation of the Manhattan Project in the United States.\n",
            "11: 2. The most notable figure in these early studies was Albert Einstein, who in 1905, came up with the theory of relativity which is expressed in the famous equation E=mc^2. This equation expressed that matter could be converted into energy, and vice versa, which is the principle behind the atomic bomb.\n",
            "12: 3. The idea of using nuclear fission as a weapon was first proposed by Hungarian physicist Leo Szilard, who was living in the U.S. at the time. He was alarmed by the potential of Nazi Germany developing such a weapon.\n",
            "13: 3. The theoretical explanation, however, was provided by Lise Meitner and Otto Robert Frisch, who were Austrian and Danish physicists respectively.\n",
            "14: 4. However, the actual development and creation of the atomic bomb was undertaken during World War II by the United States in what was called the Manhattan Project.\n",
            "15: 2. The Manhattan Project: In 1939, Albert Einstein and several other scientists signed a letter to U.S. President Franklin D. Roosevelt, warning that Germany might develop atomic bombs and recommending the U.S. start its own\n",
            "16: 2. However, the actual development and creation of the atomic bomb was carried out under the Manhattan Project in the United States during World War II. This project was led by physicist J. Robert Oppenheimer.\n",
            "17: 4. Key figures in the Manhattan Project included J. Robert Oppenheimer, who led the team of scientists working on the bomb, and General Leslie Groves, who oversaw the project on behalf of the U.S. Army.\n",
            "18: 3. The atomic bomb itself was invented during World War II, as part of the Manhattan Project - a research project that began in the United States and later included the UK and Canada. The project was led by physicist Robert Oppenheimer.\n",
            "19: 3. In 1939, several scientists including Albert Einstein wrote a letter to President Franklin D. Roosevelt warning him of the potential for Nazi Germany to build an atomic bomb. This led to the formation of the Manhattan Project in the United States.\n",
            "20: 5. Key figures in the development of the atomic bomb include J. Robert Oppenheimer, who was the scientific director of the Manhattan Project, and General Leslie Groves, who was the military director.\n",
            "\n",
            "Answer Frequencies:\n",
            "'3. However, the atomic bomb, as we know it, was developed as part of the Manhattan Project during World War II in the United States.': 1\n",
            "'3. The idea of using nuclear fission as a weapon was first proposed by Leo Szilard, a Hungarian-American physicist. He patented the concept of a nuclear chain reaction in 1933.': 1\n",
            "'5. The project resulted in the production of two types of atomic bombs - \"Little Boy\", a uranium weapon, and \"Fat Man\", a plutonium weapon.': 1\n",
            "'3. However, the actual development of the atomic bomb was not the work of a single individual, but a collaborative effort by several scientists. This effort was carried out under the Manhattan Project, a U.S. government research project that started in 1939.': 1\n",
            "'4. Among these scientists, the most notable were Enrico Fermi, J. Robert Oppenheimer, and Albert Einstein.': 1\n",
            "'4. The project was led by physicist J. Robert Oppenheimer. Several other prominent scientists were also involved, including Enrico Fermi, Richard Feynman, and Niels Bohr.': 1\n",
            "'4. The theoretical explanation of this phenomenon was provided by Lise Meitner and Otto Frisch.': 1\n",
            "'3. The project was led by physicist J. Robert Oppenheimer, and involved many top scientists, including Enrico Fermi and Leo Szilard.': 1\n",
            "'3. However, the practical development and creation of the atomic bomb was a massive collective effort known as the Manhattan Project, taking place during World War II. This project was led by the United States with support from the United Kingdom and Canada.': 1\n",
            "'3. Albert Einstein, aware of the potential for nuclear fission, wrote a letter to President Franklin D. Roosevelt in 1939 warning him of the potential for a powerful bomb. This led to the creation of the Manhattan Project in the United States.': 1\n",
            "'2. The most notable figure in these early studies was Albert Einstein, who in 1905, came up with the theory of relativity which is expressed in the famous equation E=mc^2. This equation expressed that matter could be converted into energy, and vice versa, which is the principle behind the atomic bomb.': 1\n",
            "'3. The idea of using nuclear fission as a weapon was first proposed by Hungarian physicist Leo Szilard, who was living in the U.S. at the time. He was alarmed by the potential of Nazi Germany developing such a weapon.': 1\n",
            "'3. The theoretical explanation, however, was provided by Lise Meitner and Otto Robert Frisch, who were Austrian and Danish physicists respectively.': 1\n",
            "'4. However, the actual development and creation of the atomic bomb was undertaken during World War II by the United States in what was called the Manhattan Project.': 1\n",
            "'2. The Manhattan Project: In 1939, Albert Einstein and several other scientists signed a letter to U.S. President Franklin D. Roosevelt, warning that Germany might develop atomic bombs and recommending the U.S. start its own': 1\n",
            "'2. However, the actual development and creation of the atomic bomb was carried out under the Manhattan Project in the United States during World War II. This project was led by physicist J. Robert Oppenheimer.': 1\n",
            "'4. Key figures in the Manhattan Project included J. Robert Oppenheimer, who led the team of scientists working on the bomb, and General Leslie Groves, who oversaw the project on behalf of the U.S. Army.': 1\n",
            "'3. The atomic bomb itself was invented during World War II, as part of the Manhattan Project - a research project that began in the United States and later included the UK and Canada. The project was led by physicist Robert Oppenheimer.': 1\n",
            "'3. In 1939, several scientists including Albert Einstein wrote a letter to President Franklin D. Roosevelt warning him of the potential for Nazi Germany to build an atomic bomb. This led to the formation of the Manhattan Project in the United States.': 1\n",
            "'5. Key figures in the development of the atomic bomb include J. Robert Oppenheimer, who was the scientific director of the Manhattan Project, and General Leslie Groves, who was the military director.': 1\n",
            "\n",
            "Final Answer (Majority Vote):\n",
            "3. However, the atomic bomb, as we know it, was developed as part of the Manhattan Project during World War II in the United States.\n"
          ]
        },
        {
          "output_type": "execute_result",
          "data": {
            "text/plain": [
              "'3. However, the atomic bomb, as we know it, was developed as part of the Manhattan Project during World War II in the United States.'"
            ],
            "application/vnd.google.colaboratory.intrinsic+json": {
              "type": "string"
            }
          },
          "metadata": {},
          "execution_count": 9
        }
      ]
    },
    {
      "cell_type": "code",
      "source": [],
      "metadata": {
        "id": "IlViZVSIXPHU"
      },
      "execution_count": null,
      "outputs": []
    }
  ]
}